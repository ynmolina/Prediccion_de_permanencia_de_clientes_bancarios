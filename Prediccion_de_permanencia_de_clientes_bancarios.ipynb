{
 "cells": [
  {
   "cell_type": "markdown",
   "metadata": {},
   "source": [
    "# ¿Los clientes de Beta Bank se quedarán?\n",
    "Los clientes de Beta Bank se están yendo, cada mes, poco a poco. Los banqueros descubrieron que es más barato salvar a los clientes existentes que atraer nuevos. Por lo cuál, se necesita predecir si un cliente dejará el banco pronto."
   ]
  },
  {
   "cell_type": "markdown",
   "metadata": {},
   "source": [
    "# Contents<a id='back'></a>\n",
    "\n",
    "* [Introducción](#intro)\n",
    "* [Inicialización](#inicializacion)\n",
    "* [Cargando los datos](#cargando_datos)\n",
    "* [Explorando los datos](#explorando_datos_iniciales)\n",
    "* [Segmentación de datos](#segmentación_de_datos)\n",
    "* [Preprocesamiento de datos](#preprocesamiento_de_datos)\n",
    "* [Restaurando valores ausentes](#restaurando_valores_ausentes)\n",
    "* [Equilibrio de clases](#equilibrio_de_clases)\n",
    "* [Modelos de entrenamiento](#modelos_de_entrenamiento)\n",
    "* [Conclusión general](#end)"
   ]
  },
  {
   "cell_type": "markdown",
   "metadata": {},
   "source": [
    "## Introducción <a id='intro'></a>\n",
    "**Propósito del proyecto**\n",
    "    \n",
    "   Crear un modelo con un valor F1 mayor o igual a 0.59.\n",
    "\n",
    "### Objetivos:\n",
    "1. Entrenar los modelos sin tener en cuenta el desequilibrio,\n",
    "2. Medir la métrica F1 y AUC-ROC,\n",
    "3. Escoger el mejor modelo.\n",
    "\n",
    "[Volver a Contenidos](#back)"
   ]
  },
  {
   "cell_type": "markdown",
   "metadata": {},
   "source": [
    "## Inicialización <a id='inicializacion'></a>"
   ]
  },
  {
   "cell_type": "code",
   "execution_count": 1,
   "metadata": {},
   "outputs": [],
   "source": [
    "import pandas as pd\n",
    "import numpy as np\n",
    "import matplotlib.pyplot as plt\n",
    "from sklearn.tree import DecisionTreeClassifier\n",
    "from sklearn.ensemble import RandomForestClassifier\n",
    "from sklearn.linear_model import LogisticRegression\n",
    "from sklearn.metrics import accuracy_score\n",
    "from sklearn.model_selection import train_test_split\n",
    "from sklearn.dummy import DummyClassifier\n",
    "from sklearn.preprocessing import OrdinalEncoder\n",
    "from sklearn.metrics import f1_score\n",
    "from sklearn.metrics import roc_auc_score\n",
    "from sklearn.utils import shuffle\n",
    "import time\n",
    "import seaborn as sns\n",
    "import warnings\n",
    "warnings.filterwarnings(\"ignore\")"
   ]
  },
  {
   "cell_type": "markdown",
   "metadata": {},
   "source": [
    "[Volver a Contenidos](#back)"
   ]
  },
  {
   "cell_type": "markdown",
   "metadata": {},
   "source": [
    "## Cargando los datos <a id='cargando_datos'></a>"
   ]
  },
  {
   "cell_type": "code",
   "execution_count": 2,
   "metadata": {},
   "outputs": [],
   "source": [
    "df = pd.read_csv('/datasets/Churn.csv')"
   ]
  },
  {
   "cell_type": "markdown",
   "metadata": {},
   "source": [
    "[Volver a Contenidos](#back)"
   ]
  },
  {
   "cell_type": "markdown",
   "metadata": {},
   "source": [
    "## Explorando los datos <a id='explorando_datos_iniciales'></a>"
   ]
  },
  {
   "cell_type": "markdown",
   "metadata": {},
   "source": [
    "**Descripción de datos**"
   ]
  },
  {
   "cell_type": "markdown",
   "metadata": {},
   "source": [
    "**Tabla Megaline**\n",
    "\n",
    "- `RowNumber` —  índice de cadena de datos\n",
    "- `CustomerId` —  identificador de cliente único\n",
    "- `Surname` —  apellido\n",
    "- `CreditScore` —  valor de crédito\n",
    "- `Geography` —  país de residencia\n",
    "- `Gender` —  sexo\n",
    "- `Age` —  edad\n",
    "- `Tenure` —  período durante el cual ha madurado el depósito a plazo fijo de un cliente (años)\n",
    "- `Balance` —  saldo de la cuenta\n",
    "- `NumOfProducts` —  número de productos bancarios utilizados por el cliente\n",
    "- `HasCrCard` —  el cliente tiene una tarjeta de crédito (1 - sí; 0 - no)\n",
    "- `IsActiveMember` —  actividad del cliente (1 - sí; 0 - no)\n",
    "- `EstimatedSalary` —  salario estimado"
   ]
  },
  {
   "cell_type": "code",
   "execution_count": 3,
   "metadata": {},
   "outputs": [
    {
     "data": {
      "text/plain": [
       "(10000, 14)"
      ]
     },
     "execution_count": 3,
     "metadata": {},
     "output_type": "execute_result"
    }
   ],
   "source": [
    "df.shape"
   ]
  },
  {
   "cell_type": "code",
   "execution_count": 4,
   "metadata": {},
   "outputs": [
    {
     "name": "stdout",
     "output_type": "stream",
     "text": [
      "<class 'pandas.core.frame.DataFrame'>\n",
      "RangeIndex: 10000 entries, 0 to 9999\n",
      "Data columns (total 14 columns):\n",
      " #   Column           Non-Null Count  Dtype  \n",
      "---  ------           --------------  -----  \n",
      " 0   RowNumber        10000 non-null  int64  \n",
      " 1   CustomerId       10000 non-null  int64  \n",
      " 2   Surname          10000 non-null  object \n",
      " 3   CreditScore      10000 non-null  int64  \n",
      " 4   Geography        10000 non-null  object \n",
      " 5   Gender           10000 non-null  object \n",
      " 6   Age              10000 non-null  int64  \n",
      " 7   Tenure           9091 non-null   float64\n",
      " 8   Balance          10000 non-null  float64\n",
      " 9   NumOfProducts    10000 non-null  int64  \n",
      " 10  HasCrCard        10000 non-null  int64  \n",
      " 11  IsActiveMember   10000 non-null  int64  \n",
      " 12  EstimatedSalary  10000 non-null  float64\n",
      " 13  Exited           10000 non-null  int64  \n",
      "dtypes: float64(3), int64(8), object(3)\n",
      "memory usage: 1.1+ MB\n"
     ]
    }
   ],
   "source": [
    "# Imprimiendo la información general/resumen sobre el DataFrame de los clientes\n",
    "df.info()"
   ]
  },
  {
   "cell_type": "code",
   "execution_count": 5,
   "metadata": {},
   "outputs": [
    {
     "data": {
      "text/html": [
       "<div>\n",
       "<style scoped>\n",
       "    .dataframe tbody tr th:only-of-type {\n",
       "        vertical-align: middle;\n",
       "    }\n",
       "\n",
       "    .dataframe tbody tr th {\n",
       "        vertical-align: top;\n",
       "    }\n",
       "\n",
       "    .dataframe thead th {\n",
       "        text-align: right;\n",
       "    }\n",
       "</style>\n",
       "<table border=\"1\" class=\"dataframe\">\n",
       "  <thead>\n",
       "    <tr style=\"text-align: right;\">\n",
       "      <th></th>\n",
       "      <th>RowNumber</th>\n",
       "      <th>CustomerId</th>\n",
       "      <th>CreditScore</th>\n",
       "      <th>Age</th>\n",
       "      <th>Tenure</th>\n",
       "      <th>Balance</th>\n",
       "      <th>NumOfProducts</th>\n",
       "      <th>HasCrCard</th>\n",
       "      <th>IsActiveMember</th>\n",
       "      <th>EstimatedSalary</th>\n",
       "      <th>Exited</th>\n",
       "    </tr>\n",
       "  </thead>\n",
       "  <tbody>\n",
       "    <tr>\n",
       "      <th>count</th>\n",
       "      <td>10000.00000</td>\n",
       "      <td>1.000000e+04</td>\n",
       "      <td>10000.000000</td>\n",
       "      <td>10000.000000</td>\n",
       "      <td>9091.000000</td>\n",
       "      <td>10000.000000</td>\n",
       "      <td>10000.000000</td>\n",
       "      <td>10000.00000</td>\n",
       "      <td>10000.000000</td>\n",
       "      <td>10000.000000</td>\n",
       "      <td>10000.000000</td>\n",
       "    </tr>\n",
       "    <tr>\n",
       "      <th>mean</th>\n",
       "      <td>5000.50000</td>\n",
       "      <td>1.569094e+07</td>\n",
       "      <td>650.528800</td>\n",
       "      <td>38.921800</td>\n",
       "      <td>4.997690</td>\n",
       "      <td>76485.889288</td>\n",
       "      <td>1.530200</td>\n",
       "      <td>0.70550</td>\n",
       "      <td>0.515100</td>\n",
       "      <td>100090.239881</td>\n",
       "      <td>0.203700</td>\n",
       "    </tr>\n",
       "    <tr>\n",
       "      <th>std</th>\n",
       "      <td>2886.89568</td>\n",
       "      <td>7.193619e+04</td>\n",
       "      <td>96.653299</td>\n",
       "      <td>10.487806</td>\n",
       "      <td>2.894723</td>\n",
       "      <td>62397.405202</td>\n",
       "      <td>0.581654</td>\n",
       "      <td>0.45584</td>\n",
       "      <td>0.499797</td>\n",
       "      <td>57510.492818</td>\n",
       "      <td>0.402769</td>\n",
       "    </tr>\n",
       "    <tr>\n",
       "      <th>min</th>\n",
       "      <td>1.00000</td>\n",
       "      <td>1.556570e+07</td>\n",
       "      <td>350.000000</td>\n",
       "      <td>18.000000</td>\n",
       "      <td>0.000000</td>\n",
       "      <td>0.000000</td>\n",
       "      <td>1.000000</td>\n",
       "      <td>0.00000</td>\n",
       "      <td>0.000000</td>\n",
       "      <td>11.580000</td>\n",
       "      <td>0.000000</td>\n",
       "    </tr>\n",
       "    <tr>\n",
       "      <th>25%</th>\n",
       "      <td>2500.75000</td>\n",
       "      <td>1.562853e+07</td>\n",
       "      <td>584.000000</td>\n",
       "      <td>32.000000</td>\n",
       "      <td>2.000000</td>\n",
       "      <td>0.000000</td>\n",
       "      <td>1.000000</td>\n",
       "      <td>0.00000</td>\n",
       "      <td>0.000000</td>\n",
       "      <td>51002.110000</td>\n",
       "      <td>0.000000</td>\n",
       "    </tr>\n",
       "    <tr>\n",
       "      <th>50%</th>\n",
       "      <td>5000.50000</td>\n",
       "      <td>1.569074e+07</td>\n",
       "      <td>652.000000</td>\n",
       "      <td>37.000000</td>\n",
       "      <td>5.000000</td>\n",
       "      <td>97198.540000</td>\n",
       "      <td>1.000000</td>\n",
       "      <td>1.00000</td>\n",
       "      <td>1.000000</td>\n",
       "      <td>100193.915000</td>\n",
       "      <td>0.000000</td>\n",
       "    </tr>\n",
       "    <tr>\n",
       "      <th>75%</th>\n",
       "      <td>7500.25000</td>\n",
       "      <td>1.575323e+07</td>\n",
       "      <td>718.000000</td>\n",
       "      <td>44.000000</td>\n",
       "      <td>7.000000</td>\n",
       "      <td>127644.240000</td>\n",
       "      <td>2.000000</td>\n",
       "      <td>1.00000</td>\n",
       "      <td>1.000000</td>\n",
       "      <td>149388.247500</td>\n",
       "      <td>0.000000</td>\n",
       "    </tr>\n",
       "    <tr>\n",
       "      <th>max</th>\n",
       "      <td>10000.00000</td>\n",
       "      <td>1.581569e+07</td>\n",
       "      <td>850.000000</td>\n",
       "      <td>92.000000</td>\n",
       "      <td>10.000000</td>\n",
       "      <td>250898.090000</td>\n",
       "      <td>4.000000</td>\n",
       "      <td>1.00000</td>\n",
       "      <td>1.000000</td>\n",
       "      <td>199992.480000</td>\n",
       "      <td>1.000000</td>\n",
       "    </tr>\n",
       "  </tbody>\n",
       "</table>\n",
       "</div>"
      ],
      "text/plain": [
       "         RowNumber    CustomerId   CreditScore           Age       Tenure  \\\n",
       "count  10000.00000  1.000000e+04  10000.000000  10000.000000  9091.000000   \n",
       "mean    5000.50000  1.569094e+07    650.528800     38.921800     4.997690   \n",
       "std     2886.89568  7.193619e+04     96.653299     10.487806     2.894723   \n",
       "min        1.00000  1.556570e+07    350.000000     18.000000     0.000000   \n",
       "25%     2500.75000  1.562853e+07    584.000000     32.000000     2.000000   \n",
       "50%     5000.50000  1.569074e+07    652.000000     37.000000     5.000000   \n",
       "75%     7500.25000  1.575323e+07    718.000000     44.000000     7.000000   \n",
       "max    10000.00000  1.581569e+07    850.000000     92.000000    10.000000   \n",
       "\n",
       "             Balance  NumOfProducts    HasCrCard  IsActiveMember  \\\n",
       "count   10000.000000   10000.000000  10000.00000    10000.000000   \n",
       "mean    76485.889288       1.530200      0.70550        0.515100   \n",
       "std     62397.405202       0.581654      0.45584        0.499797   \n",
       "min         0.000000       1.000000      0.00000        0.000000   \n",
       "25%         0.000000       1.000000      0.00000        0.000000   \n",
       "50%     97198.540000       1.000000      1.00000        1.000000   \n",
       "75%    127644.240000       2.000000      1.00000        1.000000   \n",
       "max    250898.090000       4.000000      1.00000        1.000000   \n",
       "\n",
       "       EstimatedSalary        Exited  \n",
       "count     10000.000000  10000.000000  \n",
       "mean     100090.239881      0.203700  \n",
       "std       57510.492818      0.402769  \n",
       "min          11.580000      0.000000  \n",
       "25%       51002.110000      0.000000  \n",
       "50%      100193.915000      0.000000  \n",
       "75%      149388.247500      0.000000  \n",
       "max      199992.480000      1.000000  "
      ]
     },
     "execution_count": 5,
     "metadata": {},
     "output_type": "execute_result"
    }
   ],
   "source": [
    "df.describe()"
   ]
  },
  {
   "cell_type": "code",
   "execution_count": 6,
   "metadata": {},
   "outputs": [
    {
     "data": {
      "text/html": [
       "<div>\n",
       "<style scoped>\n",
       "    .dataframe tbody tr th:only-of-type {\n",
       "        vertical-align: middle;\n",
       "    }\n",
       "\n",
       "    .dataframe tbody tr th {\n",
       "        vertical-align: top;\n",
       "    }\n",
       "\n",
       "    .dataframe thead th {\n",
       "        text-align: right;\n",
       "    }\n",
       "</style>\n",
       "<table border=\"1\" class=\"dataframe\">\n",
       "  <thead>\n",
       "    <tr style=\"text-align: right;\">\n",
       "      <th></th>\n",
       "      <th>RowNumber</th>\n",
       "      <th>CustomerId</th>\n",
       "      <th>Surname</th>\n",
       "      <th>CreditScore</th>\n",
       "      <th>Geography</th>\n",
       "      <th>Gender</th>\n",
       "      <th>Age</th>\n",
       "      <th>Tenure</th>\n",
       "      <th>Balance</th>\n",
       "      <th>NumOfProducts</th>\n",
       "      <th>HasCrCard</th>\n",
       "      <th>IsActiveMember</th>\n",
       "      <th>EstimatedSalary</th>\n",
       "      <th>Exited</th>\n",
       "    </tr>\n",
       "  </thead>\n",
       "  <tbody>\n",
       "    <tr>\n",
       "      <th>0</th>\n",
       "      <td>1</td>\n",
       "      <td>15634602</td>\n",
       "      <td>Hargrave</td>\n",
       "      <td>619</td>\n",
       "      <td>France</td>\n",
       "      <td>Female</td>\n",
       "      <td>42</td>\n",
       "      <td>2.0</td>\n",
       "      <td>0.00</td>\n",
       "      <td>1</td>\n",
       "      <td>1</td>\n",
       "      <td>1</td>\n",
       "      <td>101348.88</td>\n",
       "      <td>1</td>\n",
       "    </tr>\n",
       "    <tr>\n",
       "      <th>1</th>\n",
       "      <td>2</td>\n",
       "      <td>15647311</td>\n",
       "      <td>Hill</td>\n",
       "      <td>608</td>\n",
       "      <td>Spain</td>\n",
       "      <td>Female</td>\n",
       "      <td>41</td>\n",
       "      <td>1.0</td>\n",
       "      <td>83807.86</td>\n",
       "      <td>1</td>\n",
       "      <td>0</td>\n",
       "      <td>1</td>\n",
       "      <td>112542.58</td>\n",
       "      <td>0</td>\n",
       "    </tr>\n",
       "    <tr>\n",
       "      <th>2</th>\n",
       "      <td>3</td>\n",
       "      <td>15619304</td>\n",
       "      <td>Onio</td>\n",
       "      <td>502</td>\n",
       "      <td>France</td>\n",
       "      <td>Female</td>\n",
       "      <td>42</td>\n",
       "      <td>8.0</td>\n",
       "      <td>159660.80</td>\n",
       "      <td>3</td>\n",
       "      <td>1</td>\n",
       "      <td>0</td>\n",
       "      <td>113931.57</td>\n",
       "      <td>1</td>\n",
       "    </tr>\n",
       "    <tr>\n",
       "      <th>3</th>\n",
       "      <td>4</td>\n",
       "      <td>15701354</td>\n",
       "      <td>Boni</td>\n",
       "      <td>699</td>\n",
       "      <td>France</td>\n",
       "      <td>Female</td>\n",
       "      <td>39</td>\n",
       "      <td>1.0</td>\n",
       "      <td>0.00</td>\n",
       "      <td>2</td>\n",
       "      <td>0</td>\n",
       "      <td>0</td>\n",
       "      <td>93826.63</td>\n",
       "      <td>0</td>\n",
       "    </tr>\n",
       "    <tr>\n",
       "      <th>4</th>\n",
       "      <td>5</td>\n",
       "      <td>15737888</td>\n",
       "      <td>Mitchell</td>\n",
       "      <td>850</td>\n",
       "      <td>Spain</td>\n",
       "      <td>Female</td>\n",
       "      <td>43</td>\n",
       "      <td>2.0</td>\n",
       "      <td>125510.82</td>\n",
       "      <td>1</td>\n",
       "      <td>1</td>\n",
       "      <td>1</td>\n",
       "      <td>79084.10</td>\n",
       "      <td>0</td>\n",
       "    </tr>\n",
       "  </tbody>\n",
       "</table>\n",
       "</div>"
      ],
      "text/plain": [
       "   RowNumber  CustomerId   Surname  CreditScore Geography  Gender  Age  \\\n",
       "0          1    15634602  Hargrave          619    France  Female   42   \n",
       "1          2    15647311      Hill          608     Spain  Female   41   \n",
       "2          3    15619304      Onio          502    France  Female   42   \n",
       "3          4    15701354      Boni          699    France  Female   39   \n",
       "4          5    15737888  Mitchell          850     Spain  Female   43   \n",
       "\n",
       "   Tenure    Balance  NumOfProducts  HasCrCard  IsActiveMember  \\\n",
       "0     2.0       0.00              1          1               1   \n",
       "1     1.0   83807.86              1          0               1   \n",
       "2     8.0  159660.80              3          1               0   \n",
       "3     1.0       0.00              2          0               0   \n",
       "4     2.0  125510.82              1          1               1   \n",
       "\n",
       "   EstimatedSalary  Exited  \n",
       "0        101348.88       1  \n",
       "1        112542.58       0  \n",
       "2        113931.57       1  \n",
       "3         93826.63       0  \n",
       "4         79084.10       0  "
      ]
     },
     "execution_count": 6,
     "metadata": {},
     "output_type": "execute_result"
    }
   ],
   "source": [
    "# Imprime una muestra de los datos de los clientes\n",
    "df.head()"
   ]
  },
  {
   "cell_type": "markdown",
   "metadata": {},
   "source": [
    "**Valores ausentes**"
   ]
  },
  {
   "cell_type": "code",
   "execution_count": 7,
   "metadata": {},
   "outputs": [
    {
     "data": {
      "text/plain": [
       "Tenure             909\n",
       "RowNumber            0\n",
       "CustomerId           0\n",
       "Surname              0\n",
       "CreditScore          0\n",
       "Geography            0\n",
       "Gender               0\n",
       "Age                  0\n",
       "Balance              0\n",
       "NumOfProducts        0\n",
       "HasCrCard            0\n",
       "IsActiveMember       0\n",
       "EstimatedSalary      0\n",
       "Exited               0\n",
       "dtype: int64"
      ]
     },
     "execution_count": 7,
     "metadata": {},
     "output_type": "execute_result"
    }
   ],
   "source": [
    "df.isna().sum().sort_values(ascending=False)"
   ]
  },
  {
   "cell_type": "code",
   "execution_count": 8,
   "metadata": {},
   "outputs": [
    {
     "data": {
      "text/plain": [
       "Tenure             0.0909\n",
       "RowNumber          0.0000\n",
       "CustomerId         0.0000\n",
       "Surname            0.0000\n",
       "CreditScore        0.0000\n",
       "Geography          0.0000\n",
       "Gender             0.0000\n",
       "Age                0.0000\n",
       "Balance            0.0000\n",
       "NumOfProducts      0.0000\n",
       "HasCrCard          0.0000\n",
       "IsActiveMember     0.0000\n",
       "EstimatedSalary    0.0000\n",
       "Exited             0.0000\n",
       "dtype: float64"
      ]
     },
     "execution_count": 8,
     "metadata": {},
     "output_type": "execute_result"
    }
   ],
   "source": [
    "df.isna().sum().sort_values(ascending=False) / 10000"
   ]
  },
  {
   "cell_type": "markdown",
   "metadata": {},
   "source": [
    "**Valores duplicados**"
   ]
  },
  {
   "cell_type": "code",
   "execution_count": 9,
   "metadata": {},
   "outputs": [
    {
     "data": {
      "text/plain": [
       "True"
      ]
     },
     "execution_count": 9,
     "metadata": {},
     "output_type": "execute_result"
    }
   ],
   "source": [
    "len(df.drop_duplicates()) == len (df)"
   ]
  },
  {
   "cell_type": "markdown",
   "metadata": {},
   "source": [
    "### Conclusión intermedia"
   ]
  },
  {
   "cell_type": "markdown",
   "metadata": {},
   "source": [
    " - **`DataFrame Clientes Megaline`** — la tabla tiene 14 columnas y 10.000 filas. Con valores ausentes con un 10% en la columna Ternure. Y sin valores duplicados en el DataFrame."
   ]
  },
  {
   "cell_type": "markdown",
   "metadata": {},
   "source": [
    "[Volver a Contenidos](#back)"
   ]
  },
  {
   "cell_type": "markdown",
   "metadata": {},
   "source": [
    "## Preprocesamiento de datos <a id='preprocesamiento_de_datos'></a>"
   ]
  },
  {
   "cell_type": "markdown",
   "metadata": {},
   "source": [
    "### Estilo del encabezado\n",
    "Imprimiendo el encabezado de la columna"
   ]
  },
  {
   "cell_type": "code",
   "execution_count": 10,
   "metadata": {},
   "outputs": [
    {
     "data": {
      "text/plain": [
       "Index(['RowNumber', 'CustomerId', 'Surname', 'CreditScore', 'Geography',\n",
       "       'Gender', 'Age', 'Tenure', 'Balance', 'NumOfProducts', 'HasCrCard',\n",
       "       'IsActiveMember', 'EstimatedSalary', 'Exited'],\n",
       "      dtype='object')"
      ]
     },
     "execution_count": 10,
     "metadata": {},
     "output_type": "execute_result"
    }
   ],
   "source": [
    "# Lista de los nombres de las columnas en la tabla df\n",
    "df.columns"
   ]
  },
  {
   "cell_type": "code",
   "execution_count": 11,
   "metadata": {},
   "outputs": [],
   "source": [
    "# Renombrando las columnas\n",
    "df.columns = df.columns.str.lower()"
   ]
  },
  {
   "cell_type": "code",
   "execution_count": 12,
   "metadata": {},
   "outputs": [
    {
     "data": {
      "text/plain": [
       "Index(['row_number', 'customer_id', 'surname', 'credit_score', 'geography',\n",
       "       'gender', 'age', 'tenure', 'balance', 'numofproducts', 'has_cr_card',\n",
       "       'is_active_member', 'estimated_salary', 'exited'],\n",
       "      dtype='object')"
      ]
     },
     "execution_count": 12,
     "metadata": {},
     "output_type": "execute_result"
    }
   ],
   "source": [
    "# Renombrando las columnas\n",
    "df.rename(\n",
    "    columns={\n",
    "        'rownumber': 'row_number',\n",
    "        'customerid': 'customer_id',\n",
    "        'creditscore': 'credit_score',\n",
    "        'hascrcard': 'has_cr_card',\n",
    "        'isactivemember': 'is_active_member',\n",
    "        'estimatedsalary': 'estimated_salary',\n",
    "    }, inplace=True\n",
    ")\n",
    "\n",
    "df.columns"
   ]
  },
  {
   "cell_type": "markdown",
   "metadata": {},
   "source": [
    "### **Inspeccionando los valores únicos**"
   ]
  },
  {
   "cell_type": "code",
   "execution_count": 13,
   "metadata": {},
   "outputs": [
    {
     "data": {
      "text/plain": [
       "array([619, 608, 502, 699, 850, 645, 822, 376, 501, 684, 528, 497, 476,\n",
       "       549, 635, 616, 653, 587, 726, 732, 636, 510, 669, 846, 577, 756,\n",
       "       571, 574, 411, 591, 533, 553, 520, 722, 475, 490, 804, 582, 472,\n",
       "       465, 556, 834, 660, 776, 829, 637, 550, 698, 585, 788, 655, 601,\n",
       "       656, 725, 511, 614, 742, 687, 555, 603, 751, 581, 735, 661, 675,\n",
       "       738, 813, 657, 604, 519, 664, 678, 757, 416, 665, 777, 543, 506,\n",
       "       493, 652, 750, 729, 646, 647, 808, 524, 769, 730, 515, 773, 814,\n",
       "       710, 413, 623, 670, 622, 785, 605, 479, 685, 538, 562, 721, 628,\n",
       "       668, 828, 674, 625, 432, 770, 758, 795, 686, 789, 589, 461, 584,\n",
       "       579, 663, 682, 793, 691, 485, 650, 754, 535, 716, 539, 706, 586,\n",
       "       631, 717, 800, 683, 704, 615, 667, 484, 480, 578, 512, 606, 597,\n",
       "       778, 514, 525, 715, 580, 807, 521, 759, 516, 711, 618, 643, 671,\n",
       "       689, 620, 676, 572, 695, 592, 567, 694, 547, 594, 673, 610, 767,\n",
       "       763, 712, 703, 662, 659, 523, 772, 545, 634, 739, 771, 681, 544,\n",
       "       696, 766, 727, 693, 557, 531, 498, 651, 791, 733, 811, 707, 714,\n",
       "       782, 775, 799, 602, 744, 588, 747, 583, 627, 731, 629, 438, 642,\n",
       "       806, 474, 559, 429, 680, 749, 734, 644, 626, 649, 805, 718, 840,\n",
       "       630, 654, 762, 568, 613, 522, 737, 648, 443, 640, 540, 460, 593,\n",
       "       801, 611, 802, 745, 483, 690, 492, 709, 705, 560, 752, 701, 537,\n",
       "       487, 596, 702, 486, 724, 548, 464, 790, 534, 748, 494, 590, 468,\n",
       "       509, 818, 816, 536, 753, 774, 621, 569, 658, 798, 641, 542, 692,\n",
       "       639, 765, 570, 638, 599, 632, 779, 527, 564, 833, 504, 842, 508,\n",
       "       417, 598, 741, 607, 761, 848, 546, 439, 755, 760, 526, 713, 700,\n",
       "       666, 566, 495, 688, 612, 477, 427, 839, 819, 720, 459, 503, 624,\n",
       "       529, 563, 482, 796, 445, 746, 786, 554, 672, 787, 499, 844, 450,\n",
       "       815, 838, 803, 736, 633, 600, 679, 517, 792, 743, 488, 421, 841,\n",
       "       708, 507, 505, 456, 435, 561, 518, 565, 728, 784, 552, 609, 764,\n",
       "       697, 723, 551, 444, 719, 496, 541, 830, 812, 677, 420, 595, 617,\n",
       "       809, 500, 826, 434, 513, 478, 797, 363, 399, 463, 780, 452, 575,\n",
       "       837, 794, 824, 428, 823, 781, 849, 489, 431, 457, 768, 831, 359,\n",
       "       820, 573, 576, 558, 817, 449, 440, 415, 821, 530, 350, 446, 425,\n",
       "       740, 481, 783, 358, 845, 451, 458, 469, 423, 404, 836, 473, 835,\n",
       "       466, 491, 351, 827, 843, 365, 532, 414, 453, 471, 401, 810, 832,\n",
       "       470, 447, 422, 825, 430, 436, 426, 408, 847, 418, 437, 410, 454,\n",
       "       407, 455, 462, 386, 405, 383, 395, 467, 433, 442, 424, 448, 441,\n",
       "       367, 412, 382, 373, 419])"
      ]
     },
     "execution_count": 13,
     "metadata": {},
     "output_type": "execute_result"
    }
   ],
   "source": [
    "df[\"credit_score\"].unique()"
   ]
  },
  {
   "cell_type": "code",
   "execution_count": 14,
   "metadata": {},
   "outputs": [
    {
     "data": {
      "text/plain": [
       "array(['France', 'Spain', 'Germany'], dtype=object)"
      ]
     },
     "execution_count": 14,
     "metadata": {},
     "output_type": "execute_result"
    }
   ],
   "source": [
    "df[\"geography\"].unique()"
   ]
  },
  {
   "cell_type": "code",
   "execution_count": 15,
   "metadata": {},
   "outputs": [
    {
     "data": {
      "text/plain": [
       "array([ 2.,  1.,  8.,  7.,  4.,  6.,  3., 10.,  5.,  9.,  0., nan])"
      ]
     },
     "execution_count": 15,
     "metadata": {},
     "output_type": "execute_result"
    }
   ],
   "source": [
    "df[\"tenure\"].unique()"
   ]
  },
  {
   "cell_type": "code",
   "execution_count": 16,
   "metadata": {},
   "outputs": [
    {
     "data": {
      "text/html": [
       "<div>\n",
       "<style scoped>\n",
       "    .dataframe tbody tr th:only-of-type {\n",
       "        vertical-align: middle;\n",
       "    }\n",
       "\n",
       "    .dataframe tbody tr th {\n",
       "        vertical-align: top;\n",
       "    }\n",
       "\n",
       "    .dataframe thead th {\n",
       "        text-align: right;\n",
       "    }\n",
       "</style>\n",
       "<table border=\"1\" class=\"dataframe\">\n",
       "  <thead>\n",
       "    <tr style=\"text-align: right;\">\n",
       "      <th></th>\n",
       "      <th>credit_score</th>\n",
       "      <th>geography</th>\n",
       "      <th>gender</th>\n",
       "      <th>age</th>\n",
       "      <th>tenure</th>\n",
       "      <th>balance</th>\n",
       "      <th>numofproducts</th>\n",
       "      <th>has_cr_card</th>\n",
       "      <th>is_active_member</th>\n",
       "      <th>estimated_salary</th>\n",
       "      <th>exited</th>\n",
       "    </tr>\n",
       "  </thead>\n",
       "  <tbody>\n",
       "    <tr>\n",
       "      <th>0</th>\n",
       "      <td>619</td>\n",
       "      <td>France</td>\n",
       "      <td>Female</td>\n",
       "      <td>42</td>\n",
       "      <td>2.0</td>\n",
       "      <td>0.00</td>\n",
       "      <td>1</td>\n",
       "      <td>1</td>\n",
       "      <td>1</td>\n",
       "      <td>101348.88</td>\n",
       "      <td>1</td>\n",
       "    </tr>\n",
       "    <tr>\n",
       "      <th>1</th>\n",
       "      <td>608</td>\n",
       "      <td>Spain</td>\n",
       "      <td>Female</td>\n",
       "      <td>41</td>\n",
       "      <td>1.0</td>\n",
       "      <td>83807.86</td>\n",
       "      <td>1</td>\n",
       "      <td>0</td>\n",
       "      <td>1</td>\n",
       "      <td>112542.58</td>\n",
       "      <td>0</td>\n",
       "    </tr>\n",
       "    <tr>\n",
       "      <th>2</th>\n",
       "      <td>502</td>\n",
       "      <td>France</td>\n",
       "      <td>Female</td>\n",
       "      <td>42</td>\n",
       "      <td>8.0</td>\n",
       "      <td>159660.80</td>\n",
       "      <td>3</td>\n",
       "      <td>1</td>\n",
       "      <td>0</td>\n",
       "      <td>113931.57</td>\n",
       "      <td>1</td>\n",
       "    </tr>\n",
       "    <tr>\n",
       "      <th>3</th>\n",
       "      <td>699</td>\n",
       "      <td>France</td>\n",
       "      <td>Female</td>\n",
       "      <td>39</td>\n",
       "      <td>1.0</td>\n",
       "      <td>0.00</td>\n",
       "      <td>2</td>\n",
       "      <td>0</td>\n",
       "      <td>0</td>\n",
       "      <td>93826.63</td>\n",
       "      <td>0</td>\n",
       "    </tr>\n",
       "    <tr>\n",
       "      <th>4</th>\n",
       "      <td>850</td>\n",
       "      <td>Spain</td>\n",
       "      <td>Female</td>\n",
       "      <td>43</td>\n",
       "      <td>2.0</td>\n",
       "      <td>125510.82</td>\n",
       "      <td>1</td>\n",
       "      <td>1</td>\n",
       "      <td>1</td>\n",
       "      <td>79084.10</td>\n",
       "      <td>0</td>\n",
       "    </tr>\n",
       "    <tr>\n",
       "      <th>...</th>\n",
       "      <td>...</td>\n",
       "      <td>...</td>\n",
       "      <td>...</td>\n",
       "      <td>...</td>\n",
       "      <td>...</td>\n",
       "      <td>...</td>\n",
       "      <td>...</td>\n",
       "      <td>...</td>\n",
       "      <td>...</td>\n",
       "      <td>...</td>\n",
       "      <td>...</td>\n",
       "    </tr>\n",
       "    <tr>\n",
       "      <th>9995</th>\n",
       "      <td>771</td>\n",
       "      <td>France</td>\n",
       "      <td>Male</td>\n",
       "      <td>39</td>\n",
       "      <td>5.0</td>\n",
       "      <td>0.00</td>\n",
       "      <td>2</td>\n",
       "      <td>1</td>\n",
       "      <td>0</td>\n",
       "      <td>96270.64</td>\n",
       "      <td>0</td>\n",
       "    </tr>\n",
       "    <tr>\n",
       "      <th>9996</th>\n",
       "      <td>516</td>\n",
       "      <td>France</td>\n",
       "      <td>Male</td>\n",
       "      <td>35</td>\n",
       "      <td>10.0</td>\n",
       "      <td>57369.61</td>\n",
       "      <td>1</td>\n",
       "      <td>1</td>\n",
       "      <td>1</td>\n",
       "      <td>101699.77</td>\n",
       "      <td>0</td>\n",
       "    </tr>\n",
       "    <tr>\n",
       "      <th>9997</th>\n",
       "      <td>709</td>\n",
       "      <td>France</td>\n",
       "      <td>Female</td>\n",
       "      <td>36</td>\n",
       "      <td>7.0</td>\n",
       "      <td>0.00</td>\n",
       "      <td>1</td>\n",
       "      <td>0</td>\n",
       "      <td>1</td>\n",
       "      <td>42085.58</td>\n",
       "      <td>1</td>\n",
       "    </tr>\n",
       "    <tr>\n",
       "      <th>9998</th>\n",
       "      <td>772</td>\n",
       "      <td>Germany</td>\n",
       "      <td>Male</td>\n",
       "      <td>42</td>\n",
       "      <td>3.0</td>\n",
       "      <td>75075.31</td>\n",
       "      <td>2</td>\n",
       "      <td>1</td>\n",
       "      <td>0</td>\n",
       "      <td>92888.52</td>\n",
       "      <td>1</td>\n",
       "    </tr>\n",
       "    <tr>\n",
       "      <th>9999</th>\n",
       "      <td>792</td>\n",
       "      <td>France</td>\n",
       "      <td>Female</td>\n",
       "      <td>28</td>\n",
       "      <td>NaN</td>\n",
       "      <td>130142.79</td>\n",
       "      <td>1</td>\n",
       "      <td>1</td>\n",
       "      <td>0</td>\n",
       "      <td>38190.78</td>\n",
       "      <td>0</td>\n",
       "    </tr>\n",
       "  </tbody>\n",
       "</table>\n",
       "<p>10000 rows × 11 columns</p>\n",
       "</div>"
      ],
      "text/plain": [
       "      credit_score geography  gender  age  tenure    balance  numofproducts  \\\n",
       "0              619    France  Female   42     2.0       0.00              1   \n",
       "1              608     Spain  Female   41     1.0   83807.86              1   \n",
       "2              502    France  Female   42     8.0  159660.80              3   \n",
       "3              699    France  Female   39     1.0       0.00              2   \n",
       "4              850     Spain  Female   43     2.0  125510.82              1   \n",
       "...            ...       ...     ...  ...     ...        ...            ...   \n",
       "9995           771    France    Male   39     5.0       0.00              2   \n",
       "9996           516    France    Male   35    10.0   57369.61              1   \n",
       "9997           709    France  Female   36     7.0       0.00              1   \n",
       "9998           772   Germany    Male   42     3.0   75075.31              2   \n",
       "9999           792    France  Female   28     NaN  130142.79              1   \n",
       "\n",
       "      has_cr_card  is_active_member  estimated_salary  exited  \n",
       "0               1                 1         101348.88       1  \n",
       "1               0                 1         112542.58       0  \n",
       "2               1                 0         113931.57       1  \n",
       "3               0                 0          93826.63       0  \n",
       "4               1                 1          79084.10       0  \n",
       "...           ...               ...               ...     ...  \n",
       "9995            1                 0          96270.64       0  \n",
       "9996            1                 1         101699.77       0  \n",
       "9997            0                 1          42085.58       1  \n",
       "9998            1                 0          92888.52       1  \n",
       "9999            1                 0          38190.78       0  \n",
       "\n",
       "[10000 rows x 11 columns]"
      ]
     },
     "execution_count": 16,
     "metadata": {},
     "output_type": "execute_result"
    }
   ],
   "source": [
    "df = df.drop(['row_number', 'customer_id', 'surname'], axis=1)\n",
    "df"
   ]
  },
  {
   "cell_type": "markdown",
   "metadata": {},
   "source": [
    "### Conclusión intermedia"
   ]
  },
  {
   "cell_type": "markdown",
   "metadata": {},
   "source": [
    " - **`DataFrame Clientes Megaline`** — se eliminó la columna *row_number*, *customer_id*, *surname* ya que no lo consideramos como característica."
   ]
  },
  {
   "cell_type": "markdown",
   "metadata": {},
   "source": [
    "## Restaurando valores ausentes <a id='restaurando_valores_ausentes'></a>"
   ]
  },
  {
   "cell_type": "code",
   "execution_count": 17,
   "metadata": {},
   "outputs": [
    {
     "data": {
      "text/html": [
       "<div>\n",
       "<style scoped>\n",
       "    .dataframe tbody tr th:only-of-type {\n",
       "        vertical-align: middle;\n",
       "    }\n",
       "\n",
       "    .dataframe tbody tr th {\n",
       "        vertical-align: top;\n",
       "    }\n",
       "\n",
       "    .dataframe thead th {\n",
       "        text-align: right;\n",
       "    }\n",
       "</style>\n",
       "<table border=\"1\" class=\"dataframe\">\n",
       "  <thead>\n",
       "    <tr style=\"text-align: right;\">\n",
       "      <th></th>\n",
       "      <th>credit_score</th>\n",
       "      <th>geography</th>\n",
       "      <th>gender</th>\n",
       "      <th>age</th>\n",
       "      <th>tenure</th>\n",
       "      <th>balance</th>\n",
       "      <th>numofproducts</th>\n",
       "      <th>has_cr_card</th>\n",
       "      <th>is_active_member</th>\n",
       "      <th>estimated_salary</th>\n",
       "      <th>exited</th>\n",
       "    </tr>\n",
       "  </thead>\n",
       "  <tbody>\n",
       "    <tr>\n",
       "      <th>0</th>\n",
       "      <td>619</td>\n",
       "      <td>France</td>\n",
       "      <td>Female</td>\n",
       "      <td>42</td>\n",
       "      <td>2.0</td>\n",
       "      <td>0.00</td>\n",
       "      <td>1</td>\n",
       "      <td>1</td>\n",
       "      <td>1</td>\n",
       "      <td>101348.88</td>\n",
       "      <td>1</td>\n",
       "    </tr>\n",
       "    <tr>\n",
       "      <th>1</th>\n",
       "      <td>608</td>\n",
       "      <td>Spain</td>\n",
       "      <td>Female</td>\n",
       "      <td>41</td>\n",
       "      <td>1.0</td>\n",
       "      <td>83807.86</td>\n",
       "      <td>1</td>\n",
       "      <td>0</td>\n",
       "      <td>1</td>\n",
       "      <td>112542.58</td>\n",
       "      <td>0</td>\n",
       "    </tr>\n",
       "    <tr>\n",
       "      <th>2</th>\n",
       "      <td>502</td>\n",
       "      <td>France</td>\n",
       "      <td>Female</td>\n",
       "      <td>42</td>\n",
       "      <td>8.0</td>\n",
       "      <td>159660.80</td>\n",
       "      <td>3</td>\n",
       "      <td>1</td>\n",
       "      <td>0</td>\n",
       "      <td>113931.57</td>\n",
       "      <td>1</td>\n",
       "    </tr>\n",
       "    <tr>\n",
       "      <th>3</th>\n",
       "      <td>699</td>\n",
       "      <td>France</td>\n",
       "      <td>Female</td>\n",
       "      <td>39</td>\n",
       "      <td>1.0</td>\n",
       "      <td>0.00</td>\n",
       "      <td>2</td>\n",
       "      <td>0</td>\n",
       "      <td>0</td>\n",
       "      <td>93826.63</td>\n",
       "      <td>0</td>\n",
       "    </tr>\n",
       "    <tr>\n",
       "      <th>4</th>\n",
       "      <td>850</td>\n",
       "      <td>Spain</td>\n",
       "      <td>Female</td>\n",
       "      <td>43</td>\n",
       "      <td>2.0</td>\n",
       "      <td>125510.82</td>\n",
       "      <td>1</td>\n",
       "      <td>1</td>\n",
       "      <td>1</td>\n",
       "      <td>79084.10</td>\n",
       "      <td>0</td>\n",
       "    </tr>\n",
       "  </tbody>\n",
       "</table>\n",
       "</div>"
      ],
      "text/plain": [
       "   credit_score geography  gender  age  tenure    balance  numofproducts  \\\n",
       "0           619    France  Female   42     2.0       0.00              1   \n",
       "1           608     Spain  Female   41     1.0   83807.86              1   \n",
       "2           502    France  Female   42     8.0  159660.80              3   \n",
       "3           699    France  Female   39     1.0       0.00              2   \n",
       "4           850     Spain  Female   43     2.0  125510.82              1   \n",
       "\n",
       "   has_cr_card  is_active_member  estimated_salary  exited  \n",
       "0            1                 1         101348.88       1  \n",
       "1            0                 1         112542.58       0  \n",
       "2            1                 0         113931.57       1  \n",
       "3            0                 0          93826.63       0  \n",
       "4            1                 1          79084.10       0  "
      ]
     },
     "execution_count": 17,
     "metadata": {},
     "output_type": "execute_result"
    }
   ],
   "source": [
    "df_notnan = df.dropna()\n",
    "df_notnan.head()"
   ]
  },
  {
   "cell_type": "code",
   "execution_count": 18,
   "metadata": {},
   "outputs": [],
   "source": [
    "# Vamos a escribir una función que calcule la categoría de período\n",
    "def tenure_category(tenure):\n",
    "    if tenure == 0:\n",
    "        return \"cero\"\n",
    "    elif tenure == 1:\n",
    "        return \"uno\"\n",
    "    elif tenure == 2:\n",
    "        return \"dos\"\n",
    "    elif tenure == 3:\n",
    "        return \"tres\"\n",
    "    elif tenure == 4:\n",
    "        return \"cuatro\"\n",
    "    elif tenure == 5:\n",
    "        return \"cinco\"\n",
    "    elif tenure == 6:\n",
    "        return \"seis\"\n",
    "    elif tenure == 7:\n",
    "        return \"siete\"\n",
    "    elif tenure == 8:\n",
    "        return \"ocho\"\n",
    "    elif tenure == 9:\n",
    "        return \"nueve\"\n",
    "    elif tenure == 10:\n",
    "        return \"diez\"\n",
    "    else:\n",
    "        return \"Sin información\""
   ]
  },
  {
   "cell_type": "code",
   "execution_count": 19,
   "metadata": {},
   "outputs": [
    {
     "name": "stdout",
     "output_type": "stream",
     "text": [
      "cinco\n"
     ]
    }
   ],
   "source": [
    "print(tenure_category(5))"
   ]
  },
  {
   "cell_type": "code",
   "execution_count": 20,
   "metadata": {},
   "outputs": [],
   "source": [
    "# Creando una nueva columna basada en la función\n",
    "df_notnan[\"tenure_category\"] = df_notnan[\"tenure\"].apply(tenure_category)"
   ]
  },
  {
   "cell_type": "code",
   "execution_count": 21,
   "metadata": {},
   "outputs": [
    {
     "data": {
      "text/html": [
       "<div>\n",
       "<style scoped>\n",
       "    .dataframe tbody tr th:only-of-type {\n",
       "        vertical-align: middle;\n",
       "    }\n",
       "\n",
       "    .dataframe tbody tr th {\n",
       "        vertical-align: top;\n",
       "    }\n",
       "\n",
       "    .dataframe thead th {\n",
       "        text-align: right;\n",
       "    }\n",
       "</style>\n",
       "<table border=\"1\" class=\"dataframe\">\n",
       "  <thead>\n",
       "    <tr style=\"text-align: right;\">\n",
       "      <th></th>\n",
       "      <th>credit_score</th>\n",
       "      <th>geography</th>\n",
       "      <th>gender</th>\n",
       "      <th>age</th>\n",
       "      <th>tenure</th>\n",
       "      <th>balance</th>\n",
       "      <th>numofproducts</th>\n",
       "      <th>has_cr_card</th>\n",
       "      <th>is_active_member</th>\n",
       "      <th>estimated_salary</th>\n",
       "      <th>exited</th>\n",
       "      <th>tenure_category</th>\n",
       "    </tr>\n",
       "  </thead>\n",
       "  <tbody>\n",
       "    <tr>\n",
       "      <th>0</th>\n",
       "      <td>619</td>\n",
       "      <td>France</td>\n",
       "      <td>Female</td>\n",
       "      <td>42</td>\n",
       "      <td>2.0</td>\n",
       "      <td>0.00</td>\n",
       "      <td>1</td>\n",
       "      <td>1</td>\n",
       "      <td>1</td>\n",
       "      <td>101348.88</td>\n",
       "      <td>1</td>\n",
       "      <td>dos</td>\n",
       "    </tr>\n",
       "    <tr>\n",
       "      <th>1</th>\n",
       "      <td>608</td>\n",
       "      <td>Spain</td>\n",
       "      <td>Female</td>\n",
       "      <td>41</td>\n",
       "      <td>1.0</td>\n",
       "      <td>83807.86</td>\n",
       "      <td>1</td>\n",
       "      <td>0</td>\n",
       "      <td>1</td>\n",
       "      <td>112542.58</td>\n",
       "      <td>0</td>\n",
       "      <td>uno</td>\n",
       "    </tr>\n",
       "    <tr>\n",
       "      <th>2</th>\n",
       "      <td>502</td>\n",
       "      <td>France</td>\n",
       "      <td>Female</td>\n",
       "      <td>42</td>\n",
       "      <td>8.0</td>\n",
       "      <td>159660.80</td>\n",
       "      <td>3</td>\n",
       "      <td>1</td>\n",
       "      <td>0</td>\n",
       "      <td>113931.57</td>\n",
       "      <td>1</td>\n",
       "      <td>ocho</td>\n",
       "    </tr>\n",
       "    <tr>\n",
       "      <th>3</th>\n",
       "      <td>699</td>\n",
       "      <td>France</td>\n",
       "      <td>Female</td>\n",
       "      <td>39</td>\n",
       "      <td>1.0</td>\n",
       "      <td>0.00</td>\n",
       "      <td>2</td>\n",
       "      <td>0</td>\n",
       "      <td>0</td>\n",
       "      <td>93826.63</td>\n",
       "      <td>0</td>\n",
       "      <td>uno</td>\n",
       "    </tr>\n",
       "    <tr>\n",
       "      <th>4</th>\n",
       "      <td>850</td>\n",
       "      <td>Spain</td>\n",
       "      <td>Female</td>\n",
       "      <td>43</td>\n",
       "      <td>2.0</td>\n",
       "      <td>125510.82</td>\n",
       "      <td>1</td>\n",
       "      <td>1</td>\n",
       "      <td>1</td>\n",
       "      <td>79084.10</td>\n",
       "      <td>0</td>\n",
       "      <td>dos</td>\n",
       "    </tr>\n",
       "  </tbody>\n",
       "</table>\n",
       "</div>"
      ],
      "text/plain": [
       "   credit_score geography  gender  age  tenure    balance  numofproducts  \\\n",
       "0           619    France  Female   42     2.0       0.00              1   \n",
       "1           608     Spain  Female   41     1.0   83807.86              1   \n",
       "2           502    France  Female   42     8.0  159660.80              3   \n",
       "3           699    France  Female   39     1.0       0.00              2   \n",
       "4           850     Spain  Female   43     2.0  125510.82              1   \n",
       "\n",
       "   has_cr_card  is_active_member  estimated_salary  exited tenure_category  \n",
       "0            1                 1         101348.88       1             dos  \n",
       "1            0                 1         112542.58       0             uno  \n",
       "2            1                 0         113931.57       1            ocho  \n",
       "3            0                 0          93826.63       0             uno  \n",
       "4            1                 1          79084.10       0             dos  "
      ]
     },
     "execution_count": 21,
     "metadata": {},
     "output_type": "execute_result"
    }
   ],
   "source": [
    "# Comprobando cómo los valores en la nueva columna\n",
    "df_notnan.head()"
   ]
  },
  {
   "cell_type": "code",
   "execution_count": 22,
   "metadata": {},
   "outputs": [
    {
     "data": {
      "text/html": [
       "<div>\n",
       "<style scoped>\n",
       "    .dataframe tbody tr th:only-of-type {\n",
       "        vertical-align: middle;\n",
       "    }\n",
       "\n",
       "    .dataframe tbody tr th {\n",
       "        vertical-align: top;\n",
       "    }\n",
       "\n",
       "    .dataframe thead th {\n",
       "        text-align: right;\n",
       "    }\n",
       "</style>\n",
       "<table border=\"1\" class=\"dataframe\">\n",
       "  <thead>\n",
       "    <tr style=\"text-align: right;\">\n",
       "      <th></th>\n",
       "      <th>geography</th>\n",
       "      <th>gender</th>\n",
       "      <th>age</th>\n",
       "      <th>tenure</th>\n",
       "      <th>tenure_category</th>\n",
       "    </tr>\n",
       "  </thead>\n",
       "  <tbody>\n",
       "    <tr>\n",
       "      <th>2350</th>\n",
       "      <td>Spain</td>\n",
       "      <td>Male</td>\n",
       "      <td>38</td>\n",
       "      <td>7.0</td>\n",
       "      <td>16</td>\n",
       "    </tr>\n",
       "    <tr>\n",
       "      <th>2291</th>\n",
       "      <td>Spain</td>\n",
       "      <td>Male</td>\n",
       "      <td>33</td>\n",
       "      <td>3.0</td>\n",
       "      <td>11</td>\n",
       "    </tr>\n",
       "    <tr>\n",
       "      <th>2322</th>\n",
       "      <td>Spain</td>\n",
       "      <td>Male</td>\n",
       "      <td>36</td>\n",
       "      <td>1.0</td>\n",
       "      <td>11</td>\n",
       "    </tr>\n",
       "    <tr>\n",
       "      <th>2344</th>\n",
       "      <td>Spain</td>\n",
       "      <td>Male</td>\n",
       "      <td>38</td>\n",
       "      <td>1.0</td>\n",
       "      <td>11</td>\n",
       "    </tr>\n",
       "    <tr>\n",
       "      <th>1975</th>\n",
       "      <td>Spain</td>\n",
       "      <td>Female</td>\n",
       "      <td>39</td>\n",
       "      <td>6.0</td>\n",
       "      <td>10</td>\n",
       "    </tr>\n",
       "  </tbody>\n",
       "</table>\n",
       "</div>"
      ],
      "text/plain": [
       "     geography  gender  age  tenure  tenure_category\n",
       "2350     Spain    Male   38     7.0               16\n",
       "2291     Spain    Male   33     3.0               11\n",
       "2322     Spain    Male   36     1.0               11\n",
       "2344     Spain    Male   38     1.0               11\n",
       "1975     Spain  Female   39     6.0               10"
      ]
     },
     "execution_count": 22,
     "metadata": {},
     "output_type": "execute_result"
    }
   ],
   "source": [
    "w = (\n",
    "    df_notnan\n",
    "    .groupby([\"geography\", \"gender\", \"age\", \"tenure\"])[\"tenure_category\"]\n",
    "    .count()\n",
    "    .reset_index()\n",
    "    .sort_values(by=[\"geography\", \"tenure_category\"], ascending=False)\n",
    ")\n",
    "\n",
    "w.head()"
   ]
  },
  {
   "cell_type": "code",
   "execution_count": 23,
   "metadata": {},
   "outputs": [
    {
     "data": {
      "text/plain": [
       "array([ 7.,  3.,  1.,  6.,  5.,  9.,  8.,  2.,  4.,  0., 10.])"
      ]
     },
     "execution_count": 23,
     "metadata": {},
     "output_type": "execute_result"
    }
   ],
   "source": [
    "w[\"tenure\"].unique()"
   ]
  },
  {
   "cell_type": "code",
   "execution_count": 24,
   "metadata": {},
   "outputs": [
    {
     "data": {
      "text/html": [
       "<div>\n",
       "<style scoped>\n",
       "    .dataframe tbody tr th:only-of-type {\n",
       "        vertical-align: middle;\n",
       "    }\n",
       "\n",
       "    .dataframe tbody tr th {\n",
       "        vertical-align: top;\n",
       "    }\n",
       "\n",
       "    .dataframe thead th {\n",
       "        text-align: right;\n",
       "    }\n",
       "</style>\n",
       "<table border=\"1\" class=\"dataframe\">\n",
       "  <thead>\n",
       "    <tr style=\"text-align: right;\">\n",
       "      <th></th>\n",
       "      <th>gender</th>\n",
       "      <th>age</th>\n",
       "      <th>tenure</th>\n",
       "    </tr>\n",
       "    <tr>\n",
       "      <th>geography</th>\n",
       "      <th></th>\n",
       "      <th></th>\n",
       "      <th></th>\n",
       "    </tr>\n",
       "  </thead>\n",
       "  <tbody>\n",
       "    <tr>\n",
       "      <th>Spain</th>\n",
       "      <td>Male</td>\n",
       "      <td>38</td>\n",
       "      <td>7.0</td>\n",
       "    </tr>\n",
       "    <tr>\n",
       "      <th>Germany</th>\n",
       "      <td>Male</td>\n",
       "      <td>37</td>\n",
       "      <td>9.0</td>\n",
       "    </tr>\n",
       "    <tr>\n",
       "      <th>France</th>\n",
       "      <td>Male</td>\n",
       "      <td>36</td>\n",
       "      <td>1.0</td>\n",
       "    </tr>\n",
       "  </tbody>\n",
       "</table>\n",
       "</div>"
      ],
      "text/plain": [
       "          gender  age  tenure\n",
       "geography                    \n",
       "Spain       Male   38     7.0\n",
       "Germany     Male   37     9.0\n",
       "France      Male   36     1.0"
      ]
     },
     "execution_count": 24,
     "metadata": {},
     "output_type": "execute_result"
    }
   ],
   "source": [
    "_tenure= w.groupby(\"geography\").head(1).drop(columns=\"tenure_category\").set_index(\"geography\")\n",
    "_tenure"
   ]
  },
  {
   "cell_type": "code",
   "execution_count": 25,
   "metadata": {},
   "outputs": [],
   "source": [
    "#Función que usaremos para completar los valores ausentes\n",
    "def tenure_(row):\n",
    "    tenure = row[\"tenure\"]\n",
    "    geography = row[\"geography\"]\n",
    "    gender = row[\"gender\"]\n",
    "    age = row[\"age\"]\n",
    "    if pd.isna(tenure):\n",
    "        try:\n",
    "            return _tenure[\"tenure\"][geography]\n",
    "        except:\n",
    "            return None\n",
    "    return tenure"
   ]
  },
  {
   "cell_type": "code",
   "execution_count": 26,
   "metadata": {},
   "outputs": [
    {
     "data": {
      "text/plain": [
       "0"
      ]
     },
     "execution_count": 26,
     "metadata": {},
     "output_type": "execute_result"
    }
   ],
   "source": [
    "# Comprobando si funciona\n",
    "df.apply(tenure_, axis=1).isna().sum()"
   ]
  },
  {
   "cell_type": "code",
   "execution_count": 27,
   "metadata": {},
   "outputs": [
    {
     "data": {
      "text/html": [
       "<div>\n",
       "<style scoped>\n",
       "    .dataframe tbody tr th:only-of-type {\n",
       "        vertical-align: middle;\n",
       "    }\n",
       "\n",
       "    .dataframe tbody tr th {\n",
       "        vertical-align: top;\n",
       "    }\n",
       "\n",
       "    .dataframe thead th {\n",
       "        text-align: right;\n",
       "    }\n",
       "</style>\n",
       "<table border=\"1\" class=\"dataframe\">\n",
       "  <thead>\n",
       "    <tr style=\"text-align: right;\">\n",
       "      <th></th>\n",
       "      <th>credit_score</th>\n",
       "      <th>geography</th>\n",
       "      <th>gender</th>\n",
       "      <th>age</th>\n",
       "      <th>tenure</th>\n",
       "      <th>balance</th>\n",
       "      <th>numofproducts</th>\n",
       "      <th>has_cr_card</th>\n",
       "      <th>is_active_member</th>\n",
       "      <th>estimated_salary</th>\n",
       "      <th>exited</th>\n",
       "    </tr>\n",
       "  </thead>\n",
       "  <tbody>\n",
       "    <tr>\n",
       "      <th>0</th>\n",
       "      <td>619</td>\n",
       "      <td>France</td>\n",
       "      <td>Female</td>\n",
       "      <td>42</td>\n",
       "      <td>2.0</td>\n",
       "      <td>0.00</td>\n",
       "      <td>1</td>\n",
       "      <td>1</td>\n",
       "      <td>1</td>\n",
       "      <td>101348.88</td>\n",
       "      <td>1</td>\n",
       "    </tr>\n",
       "    <tr>\n",
       "      <th>1</th>\n",
       "      <td>608</td>\n",
       "      <td>Spain</td>\n",
       "      <td>Female</td>\n",
       "      <td>41</td>\n",
       "      <td>1.0</td>\n",
       "      <td>83807.86</td>\n",
       "      <td>1</td>\n",
       "      <td>0</td>\n",
       "      <td>1</td>\n",
       "      <td>112542.58</td>\n",
       "      <td>0</td>\n",
       "    </tr>\n",
       "    <tr>\n",
       "      <th>2</th>\n",
       "      <td>502</td>\n",
       "      <td>France</td>\n",
       "      <td>Female</td>\n",
       "      <td>42</td>\n",
       "      <td>8.0</td>\n",
       "      <td>159660.80</td>\n",
       "      <td>3</td>\n",
       "      <td>1</td>\n",
       "      <td>0</td>\n",
       "      <td>113931.57</td>\n",
       "      <td>1</td>\n",
       "    </tr>\n",
       "    <tr>\n",
       "      <th>3</th>\n",
       "      <td>699</td>\n",
       "      <td>France</td>\n",
       "      <td>Female</td>\n",
       "      <td>39</td>\n",
       "      <td>1.0</td>\n",
       "      <td>0.00</td>\n",
       "      <td>2</td>\n",
       "      <td>0</td>\n",
       "      <td>0</td>\n",
       "      <td>93826.63</td>\n",
       "      <td>0</td>\n",
       "    </tr>\n",
       "    <tr>\n",
       "      <th>4</th>\n",
       "      <td>850</td>\n",
       "      <td>Spain</td>\n",
       "      <td>Female</td>\n",
       "      <td>43</td>\n",
       "      <td>2.0</td>\n",
       "      <td>125510.82</td>\n",
       "      <td>1</td>\n",
       "      <td>1</td>\n",
       "      <td>1</td>\n",
       "      <td>79084.10</td>\n",
       "      <td>0</td>\n",
       "    </tr>\n",
       "    <tr>\n",
       "      <th>5</th>\n",
       "      <td>645</td>\n",
       "      <td>Spain</td>\n",
       "      <td>Male</td>\n",
       "      <td>44</td>\n",
       "      <td>8.0</td>\n",
       "      <td>113755.78</td>\n",
       "      <td>2</td>\n",
       "      <td>1</td>\n",
       "      <td>0</td>\n",
       "      <td>149756.71</td>\n",
       "      <td>1</td>\n",
       "    </tr>\n",
       "    <tr>\n",
       "      <th>6</th>\n",
       "      <td>822</td>\n",
       "      <td>France</td>\n",
       "      <td>Male</td>\n",
       "      <td>50</td>\n",
       "      <td>7.0</td>\n",
       "      <td>0.00</td>\n",
       "      <td>2</td>\n",
       "      <td>1</td>\n",
       "      <td>1</td>\n",
       "      <td>10062.80</td>\n",
       "      <td>0</td>\n",
       "    </tr>\n",
       "    <tr>\n",
       "      <th>7</th>\n",
       "      <td>376</td>\n",
       "      <td>Germany</td>\n",
       "      <td>Female</td>\n",
       "      <td>29</td>\n",
       "      <td>4.0</td>\n",
       "      <td>115046.74</td>\n",
       "      <td>4</td>\n",
       "      <td>1</td>\n",
       "      <td>0</td>\n",
       "      <td>119346.88</td>\n",
       "      <td>1</td>\n",
       "    </tr>\n",
       "    <tr>\n",
       "      <th>8</th>\n",
       "      <td>501</td>\n",
       "      <td>France</td>\n",
       "      <td>Male</td>\n",
       "      <td>44</td>\n",
       "      <td>4.0</td>\n",
       "      <td>142051.07</td>\n",
       "      <td>2</td>\n",
       "      <td>0</td>\n",
       "      <td>1</td>\n",
       "      <td>74940.50</td>\n",
       "      <td>0</td>\n",
       "    </tr>\n",
       "    <tr>\n",
       "      <th>9</th>\n",
       "      <td>684</td>\n",
       "      <td>France</td>\n",
       "      <td>Male</td>\n",
       "      <td>27</td>\n",
       "      <td>2.0</td>\n",
       "      <td>134603.88</td>\n",
       "      <td>1</td>\n",
       "      <td>1</td>\n",
       "      <td>1</td>\n",
       "      <td>71725.73</td>\n",
       "      <td>0</td>\n",
       "    </tr>\n",
       "  </tbody>\n",
       "</table>\n",
       "</div>"
      ],
      "text/plain": [
       "   credit_score geography  gender  age  tenure    balance  numofproducts  \\\n",
       "0           619    France  Female   42     2.0       0.00              1   \n",
       "1           608     Spain  Female   41     1.0   83807.86              1   \n",
       "2           502    France  Female   42     8.0  159660.80              3   \n",
       "3           699    France  Female   39     1.0       0.00              2   \n",
       "4           850     Spain  Female   43     2.0  125510.82              1   \n",
       "5           645     Spain    Male   44     8.0  113755.78              2   \n",
       "6           822    France    Male   50     7.0       0.00              2   \n",
       "7           376   Germany  Female   29     4.0  115046.74              4   \n",
       "8           501    France    Male   44     4.0  142051.07              2   \n",
       "9           684    France    Male   27     2.0  134603.88              1   \n",
       "\n",
       "   has_cr_card  is_active_member  estimated_salary  exited  \n",
       "0            1                 1         101348.88       1  \n",
       "1            0                 1         112542.58       0  \n",
       "2            1                 0         113931.57       1  \n",
       "3            0                 0          93826.63       0  \n",
       "4            1                 1          79084.10       0  \n",
       "5            1                 0         149756.71       1  \n",
       "6            1                 1          10062.80       0  \n",
       "7            1                 0         119346.88       1  \n",
       "8            0                 1          74940.50       0  \n",
       "9            1                 1          71725.73       0  "
      ]
     },
     "execution_count": 27,
     "metadata": {},
     "output_type": "execute_result"
    }
   ],
   "source": [
    "# Aplicando la función al income_type\n",
    "df[\"tenure\"] = df.apply(tenure_, axis=1)\n",
    "df.head(10)"
   ]
  },
  {
   "cell_type": "code",
   "execution_count": 28,
   "metadata": {},
   "outputs": [
    {
     "data": {
      "text/plain": [
       "array([ 2.,  1.,  8.,  7.,  4.,  6.,  3., 10.,  5.,  9.,  0.])"
      ]
     },
     "execution_count": 28,
     "metadata": {},
     "output_type": "execute_result"
    }
   ],
   "source": [
    "df[\"tenure\"].unique()"
   ]
  },
  {
   "cell_type": "markdown",
   "metadata": {},
   "source": [
    "### Conclusión intermedia"
   ]
  },
  {
   "cell_type": "markdown",
   "metadata": {},
   "source": [
    "Se crearon categorias para cada año el cual ha madurado el depósito a plazo fijo de un cliente, se incluyó al DataFrame la columna \"tenure_category\", esta nos permitió ver mediante una agrupación, los ratings por período que más se repiten (moda), tomar el valor más alto y rellenar los valores ausentes de la columna tenure."
   ]
  },
  {
   "cell_type": "markdown",
   "metadata": {},
   "source": [
    "## **Equilibrio de clases**  <a id='equilibrio_de_clases'></a>"
   ]
  },
  {
   "cell_type": "code",
   "execution_count": 29,
   "metadata": {},
   "outputs": [],
   "source": [
    "#Features excluding 'exited'\n",
    "features = df.drop('exited', axis=1)"
   ]
  },
  {
   "cell_type": "code",
   "execution_count": 30,
   "metadata": {},
   "outputs": [],
   "source": [
    "#Target\n",
    "target = df[\"exited\"]"
   ]
  },
  {
   "cell_type": "code",
   "execution_count": 31,
   "metadata": {},
   "outputs": [
    {
     "data": {
      "text/plain": [
       "0    0.7963\n",
       "1    0.2037\n",
       "Name: exited, dtype: float64"
      ]
     },
     "execution_count": 31,
     "metadata": {},
     "output_type": "execute_result"
    }
   ],
   "source": [
    "#Examinando el equilibrio de clases\n",
    "target.value_counts(normalize = True) "
   ]
  },
  {
   "cell_type": "markdown",
   "metadata": {},
   "source": [
    "Se tiene un imbalance del 20%."
   ]
  },
  {
   "cell_type": "markdown",
   "metadata": {},
   "source": [
    "[Volver a Contenidos](#back)"
   ]
  },
  {
   "cell_type": "markdown",
   "metadata": {},
   "source": [
    "# **Modelos de entrenamiento**  <a id='modelos_de_entrenamiento'></a>"
   ]
  },
  {
   "cell_type": "markdown",
   "metadata": {},
   "source": [
    "## Modelo de árbol de decisión"
   ]
  },
  {
   "cell_type": "code",
   "execution_count": 32,
   "metadata": {},
   "outputs": [],
   "source": [
    "#Codificando las columnas\n",
    "encoder = OrdinalEncoder()"
   ]
  },
  {
   "cell_type": "code",
   "execution_count": 33,
   "metadata": {},
   "outputs": [
    {
     "data": {
      "text/html": [
       "<div>\n",
       "<style scoped>\n",
       "    .dataframe tbody tr th:only-of-type {\n",
       "        vertical-align: middle;\n",
       "    }\n",
       "\n",
       "    .dataframe tbody tr th {\n",
       "        vertical-align: top;\n",
       "    }\n",
       "\n",
       "    .dataframe thead th {\n",
       "        text-align: right;\n",
       "    }\n",
       "</style>\n",
       "<table border=\"1\" class=\"dataframe\">\n",
       "  <thead>\n",
       "    <tr style=\"text-align: right;\">\n",
       "      <th></th>\n",
       "      <th>credit_score</th>\n",
       "      <th>geography</th>\n",
       "      <th>gender</th>\n",
       "      <th>age</th>\n",
       "      <th>tenure</th>\n",
       "      <th>balance</th>\n",
       "      <th>numofproducts</th>\n",
       "      <th>has_cr_card</th>\n",
       "      <th>is_active_member</th>\n",
       "      <th>estimated_salary</th>\n",
       "    </tr>\n",
       "  </thead>\n",
       "  <tbody>\n",
       "    <tr>\n",
       "      <th>0</th>\n",
       "      <td>228.0</td>\n",
       "      <td>0.0</td>\n",
       "      <td>0.0</td>\n",
       "      <td>24.0</td>\n",
       "      <td>2.0</td>\n",
       "      <td>0.0</td>\n",
       "      <td>0.0</td>\n",
       "      <td>1.0</td>\n",
       "      <td>1.0</td>\n",
       "      <td>5068.0</td>\n",
       "    </tr>\n",
       "    <tr>\n",
       "      <th>1</th>\n",
       "      <td>217.0</td>\n",
       "      <td>2.0</td>\n",
       "      <td>0.0</td>\n",
       "      <td>23.0</td>\n",
       "      <td>1.0</td>\n",
       "      <td>743.0</td>\n",
       "      <td>0.0</td>\n",
       "      <td>0.0</td>\n",
       "      <td>1.0</td>\n",
       "      <td>5639.0</td>\n",
       "    </tr>\n",
       "    <tr>\n",
       "      <th>2</th>\n",
       "      <td>111.0</td>\n",
       "      <td>0.0</td>\n",
       "      <td>0.0</td>\n",
       "      <td>24.0</td>\n",
       "      <td>8.0</td>\n",
       "      <td>5793.0</td>\n",
       "      <td>2.0</td>\n",
       "      <td>1.0</td>\n",
       "      <td>0.0</td>\n",
       "      <td>5707.0</td>\n",
       "    </tr>\n",
       "    <tr>\n",
       "      <th>3</th>\n",
       "      <td>308.0</td>\n",
       "      <td>0.0</td>\n",
       "      <td>0.0</td>\n",
       "      <td>21.0</td>\n",
       "      <td>1.0</td>\n",
       "      <td>0.0</td>\n",
       "      <td>1.0</td>\n",
       "      <td>0.0</td>\n",
       "      <td>0.0</td>\n",
       "      <td>4704.0</td>\n",
       "    </tr>\n",
       "    <tr>\n",
       "      <th>4</th>\n",
       "      <td>459.0</td>\n",
       "      <td>2.0</td>\n",
       "      <td>0.0</td>\n",
       "      <td>25.0</td>\n",
       "      <td>2.0</td>\n",
       "      <td>3696.0</td>\n",
       "      <td>0.0</td>\n",
       "      <td>1.0</td>\n",
       "      <td>1.0</td>\n",
       "      <td>3925.0</td>\n",
       "    </tr>\n",
       "    <tr>\n",
       "      <th>...</th>\n",
       "      <td>...</td>\n",
       "      <td>...</td>\n",
       "      <td>...</td>\n",
       "      <td>...</td>\n",
       "      <td>...</td>\n",
       "      <td>...</td>\n",
       "      <td>...</td>\n",
       "      <td>...</td>\n",
       "      <td>...</td>\n",
       "      <td>...</td>\n",
       "    </tr>\n",
       "    <tr>\n",
       "      <th>9995</th>\n",
       "      <td>380.0</td>\n",
       "      <td>0.0</td>\n",
       "      <td>1.0</td>\n",
       "      <td>21.0</td>\n",
       "      <td>5.0</td>\n",
       "      <td>0.0</td>\n",
       "      <td>1.0</td>\n",
       "      <td>1.0</td>\n",
       "      <td>0.0</td>\n",
       "      <td>4827.0</td>\n",
       "    </tr>\n",
       "    <tr>\n",
       "      <th>9996</th>\n",
       "      <td>125.0</td>\n",
       "      <td>0.0</td>\n",
       "      <td>1.0</td>\n",
       "      <td>17.0</td>\n",
       "      <td>10.0</td>\n",
       "      <td>124.0</td>\n",
       "      <td>0.0</td>\n",
       "      <td>1.0</td>\n",
       "      <td>1.0</td>\n",
       "      <td>5087.0</td>\n",
       "    </tr>\n",
       "    <tr>\n",
       "      <th>9997</th>\n",
       "      <td>318.0</td>\n",
       "      <td>0.0</td>\n",
       "      <td>0.0</td>\n",
       "      <td>18.0</td>\n",
       "      <td>7.0</td>\n",
       "      <td>0.0</td>\n",
       "      <td>0.0</td>\n",
       "      <td>0.0</td>\n",
       "      <td>1.0</td>\n",
       "      <td>2062.0</td>\n",
       "    </tr>\n",
       "    <tr>\n",
       "      <th>9998</th>\n",
       "      <td>381.0</td>\n",
       "      <td>1.0</td>\n",
       "      <td>1.0</td>\n",
       "      <td>24.0</td>\n",
       "      <td>3.0</td>\n",
       "      <td>427.0</td>\n",
       "      <td>1.0</td>\n",
       "      <td>1.0</td>\n",
       "      <td>0.0</td>\n",
       "      <td>4639.0</td>\n",
       "    </tr>\n",
       "    <tr>\n",
       "      <th>9999</th>\n",
       "      <td>401.0</td>\n",
       "      <td>0.0</td>\n",
       "      <td>0.0</td>\n",
       "      <td>10.0</td>\n",
       "      <td>1.0</td>\n",
       "      <td>4112.0</td>\n",
       "      <td>0.0</td>\n",
       "      <td>1.0</td>\n",
       "      <td>0.0</td>\n",
       "      <td>1878.0</td>\n",
       "    </tr>\n",
       "  </tbody>\n",
       "</table>\n",
       "<p>10000 rows × 10 columns</p>\n",
       "</div>"
      ],
      "text/plain": [
       "      credit_score  geography  gender   age  tenure  balance  numofproducts  \\\n",
       "0            228.0        0.0     0.0  24.0     2.0      0.0            0.0   \n",
       "1            217.0        2.0     0.0  23.0     1.0    743.0            0.0   \n",
       "2            111.0        0.0     0.0  24.0     8.0   5793.0            2.0   \n",
       "3            308.0        0.0     0.0  21.0     1.0      0.0            1.0   \n",
       "4            459.0        2.0     0.0  25.0     2.0   3696.0            0.0   \n",
       "...            ...        ...     ...   ...     ...      ...            ...   \n",
       "9995         380.0        0.0     1.0  21.0     5.0      0.0            1.0   \n",
       "9996         125.0        0.0     1.0  17.0    10.0    124.0            0.0   \n",
       "9997         318.0        0.0     0.0  18.0     7.0      0.0            0.0   \n",
       "9998         381.0        1.0     1.0  24.0     3.0    427.0            1.0   \n",
       "9999         401.0        0.0     0.0  10.0     1.0   4112.0            0.0   \n",
       "\n",
       "      has_cr_card  is_active_member  estimated_salary  \n",
       "0             1.0               1.0            5068.0  \n",
       "1             0.0               1.0            5639.0  \n",
       "2             1.0               0.0            5707.0  \n",
       "3             0.0               0.0            4704.0  \n",
       "4             1.0               1.0            3925.0  \n",
       "...           ...               ...               ...  \n",
       "9995          1.0               0.0            4827.0  \n",
       "9996          1.0               1.0            5087.0  \n",
       "9997          0.0               1.0            2062.0  \n",
       "9998          1.0               0.0            4639.0  \n",
       "9999          1.0               0.0            1878.0  \n",
       "\n",
       "[10000 rows x 10 columns]"
      ]
     },
     "execution_count": 33,
     "metadata": {},
     "output_type": "execute_result"
    }
   ],
   "source": [
    "#Ajustando y transformando los datos\n",
    "features_ordinal = pd.DataFrame(encoder.fit_transform(features), columns=features.columns)\n",
    "features_ordinal"
   ]
  },
  {
   "cell_type": "code",
   "execution_count": 34,
   "metadata": {},
   "outputs": [],
   "source": [
    "# División de datos en conjuntos de entrenamiento y validación\n",
    "random_seed = 200\n",
    "\n",
    "X_full_train, X_test, y_full_train, y_test = train_test_split(features_ordinal,\n",
    "                                                    target,\n",
    "                                                    test_size = 0.2,\n",
    "                                                    random_state=random_seed)\n",
    "\n",
    "X_train, X_valid, y_train, y_valid = train_test_split(X_full_train,\n",
    "                                                      y_full_train,\n",
    "                                                      test_size = 0.25,\n",
    "                                                      random_state=random_seed+1)"
   ]
  },
  {
   "cell_type": "code",
   "execution_count": 35,
   "metadata": {
    "scrolled": true
   },
   "outputs": [
    {
     "name": "stdout",
     "output_type": "stream",
     "text": [
      "(8000, 10)\n",
      "(2000, 10)\n",
      "(6000, 10)\n",
      "(2000, 10)\n"
     ]
    }
   ],
   "source": [
    "for df in [X_full_train, X_test, X_train, X_valid]:\n",
    "  print(df.shape)"
   ]
  },
  {
   "cell_type": "markdown",
   "metadata": {},
   "source": [
    "Vamos a entrenar al modelo con 8.000 observaciones, escoger los hiperparametros con 2.000 observaciones, entrenar al modelo con 6.000 observaciones y la muestra de prueba final con 2.000 observaciones."
   ]
  },
  {
   "cell_type": "markdown",
   "metadata": {},
   "source": [
    "**Árbol de decisión sin balance**"
   ]
  },
  {
   "cell_type": "code",
   "execution_count": 36,
   "metadata": {},
   "outputs": [
    {
     "name": "stdout",
     "output_type": "stream",
     "text": [
      "Best max depth DT: 8\n",
      "Best max F1 DT: 0.5179856115107915\n",
      "ROC AUC: 0.682415200298956\n",
      "\n"
     ]
    }
   ],
   "source": [
    "random_seed = 200\n",
    "i = -1\n",
    "best_f1_score_DT = 0\n",
    "best_max_depth_DT = 0\n",
    "\n",
    "for max_depth in [2, 4, 6, 8, 10]:\n",
    "    model_DT = DecisionTreeClassifier(random_state=random_seed + i,\n",
    "                                      max_depth=max_depth) # creando el modelo con pseudoaleatoriedad definida y profundidad proporcionada\n",
    "    model_DT.fit(X_full_train, y_full_train) # entrenando el modelo \n",
    "    predictions_DT = model_DT.predict(X_test) # obteniendo la predicción del modelo\n",
    "    f1_score_DT = f1_score(y_test, predictions_DT >= 0.5)\n",
    "    if f1_score_DT > best_f1_score_DT:\n",
    "      best_max_depth_DT = max_depth\n",
    "      best_f1_score_DT = f1_score_DT\n",
    "      best_model_DT = model_DT\n",
    "    \n",
    "\n",
    "print(f\"Best max depth DT: {best_max_depth_DT}\")\n",
    "print(f\"Best max F1 DT: {best_f1_score_DT}\")\n",
    "print(f\"ROC AUC: {roc_auc_score(y_test, predictions_DT)}\")\n",
    "print()"
   ]
  },
  {
   "cell_type": "markdown",
   "metadata": {},
   "source": [
    "**Conclusión intermedia**\n",
    "\n",
    "- Las métricas de evaluación difieren mucho entre sí. Se obtienen menores valores de F1 score cuando hay desquilibrio. El ROC AUC tiene el efecto contrario, mientras más grande sea el desequilibrio mejor se verá el ROC AUC."
   ]
  },
  {
   "cell_type": "markdown",
   "metadata": {},
   "source": [
    "### Corrigiendo el desequilibrio de clases"
   ]
  },
  {
   "cell_type": "code",
   "execution_count": 37,
   "metadata": {},
   "outputs": [
    {
     "name": "stdout",
     "output_type": "stream",
     "text": [
      "Best max depth DT: 8\n",
      "Best max F1 DT: 0.5529197080291971\n",
      "ROC AUC: 0.7018796717656304\n",
      "\n"
     ]
    }
   ],
   "source": [
    "#Ajustando\n",
    "random_seed = 200\n",
    "i = -1\n",
    "best_f1_score_DT = 0\n",
    "best_max_depth_DT = 0\n",
    "\n",
    "for adjusted_max_depth in [2, 4, 6, 8, 10]:\n",
    "    adjusted_model_DT = DecisionTreeClassifier(random_state=random_seed + i,\n",
    "                                               max_depth=adjusted_max_depth,\n",
    "                                               class_weight=\"balanced\") # creando el modelo con pseudoaleatoriedad definida y profundidad proporcionada\n",
    "    adjusted_model_DT.fit(X_train, y_train) # entrenando el modelo \n",
    "    adjusted_preds_DT = adjusted_model_DT.predict(X_valid) # obteniendo la predicción del modelo\n",
    "    adjusted_f1_score_DT = f1_score(y_valid, adjusted_preds_DT >= 0.5)\n",
    "    \n",
    "    if adjusted_f1_score_DT > best_f1_score_DT:\n",
    "      best_max_depth_DT = adjusted_max_depth\n",
    "      best_f1_score_DT = adjusted_f1_score_DT\n",
    "      adjusted_best_model_DT = adjusted_model_DT\n",
    "\n",
    "print(f\"Best max depth DT: {best_max_depth_DT}\")\n",
    "print(f\"Best max F1 DT: {best_f1_score_DT}\")\n",
    "print(f\"ROC AUC: {roc_auc_score(y_valid, adjusted_preds_DT)}\")\n",
    "print()"
   ]
  },
  {
   "cell_type": "markdown",
   "metadata": {},
   "source": [
    "### Ajuste de umbral"
   ]
  },
  {
   "cell_type": "code",
   "execution_count": 38,
   "metadata": {},
   "outputs": [
    {
     "name": "stdout",
     "output_type": "stream",
     "text": [
      "Best max depth DT: 8\n",
      "Best max F1 DT: 0.5208333333333333\n",
      "ROC AUC: 0.5037563033092094\n",
      "\n"
     ]
    }
   ],
   "source": [
    "#Cambiando el umbral\n",
    "random_seed = 200\n",
    "i = -1\n",
    "best_f1_score_DT = 0\n",
    "best_max_depth_DT = 0\n",
    "\n",
    "for threshold_max_depth in [2, 4, 6, 8, 10]:\n",
    "    threshold_model_DT = DecisionTreeClassifier(random_state=random_seed + i,\n",
    "                                                max_depth=threshold_max_depth) # creando el modelo con pseudoaleatoriedad definida y profundidad proporcionada\n",
    "    threshold_model_DT.fit(X_train, y_train) # entrenando el modelo \n",
    "    threshold_preds_DT = threshold_model_DT.predict(X_valid) # obteniendo la predicción del modelo\n",
    "    threshold_f1_score_DT = f1_score(y_valid, threshold_preds_DT >= 0.5)\n",
    "    \n",
    "    if threshold_f1_score_DT > best_f1_score_DT:\n",
    "      best_max_depth_DT = threshold_max_depth\n",
    "      best_f1_score_DT = threshold_f1_score_DT\n",
    "      threshold_best_model_DT = threshold_model_DT\n",
    "\n",
    "print(f\"Best max depth DT: {best_max_depth_DT}\")\n",
    "print(f\"Best max F1 DT: {best_f1_score_DT}\")\n",
    "print(f\"ROC AUC: {roc_auc_score(y_test, threshold_preds_DT)}\")\n",
    "print()"
   ]
  },
  {
   "cell_type": "code",
   "execution_count": 39,
   "metadata": {},
   "outputs": [
    {
     "name": "stdout",
     "output_type": "stream",
     "text": [
      "Best threshold: 0.05\n"
     ]
    }
   ],
   "source": [
    "#Encontrando el mejor umbral\n",
    "# dame un número entre cero y uno, y optimizame  21 números\n",
    "best_threshold_DT = 0\n",
    "best_f1_score_DT = 0\n",
    "\n",
    "for t_DT in np.linspace(0, 1, 21): #Devolviendo un número de muestras espaciadas uniformemente, calculadas sobre el intervalo [0 , 1]\n",
    "    f1_score_tmp_DT = f1_score(y_valid, threshold_preds_DT >= t_DT) #calculando f1_score variando el umbral en cada iteración\n",
    "    \n",
    "    if f1_score_tmp_DT > best_f1_score_DT: #si f1.. supera a best...\n",
    "        best_f1_score_DT = f1_score_tmp_DT\n",
    "        best_threshold_DT = t_DT # best-- igual al umbral usado en la iteración\n",
    "\n",
    "print(f\"Best threshold: {best_threshold_DT}\")"
   ]
  },
  {
   "cell_type": "code",
   "execution_count": 40,
   "metadata": {},
   "outputs": [
    {
     "name": "stdout",
     "output_type": "stream",
     "text": [
      "\n",
      "F1 score: 0.5111731843575419 \n",
      "ROC AUC: 0.6834987298280242 \n",
      "\n"
     ]
    }
   ],
   "source": [
    "#Imprimiendo el desempeño\n",
    "#F1 score y_test, valor verdadero. preds, predicción binaria\n",
    "#ROC AUC y_test, valor verdadero. preds, predicción\n",
    "\n",
    "print(f\"\"\"\n",
    "F1 score: {f1_score(y_valid, threshold_preds_DT >= best_threshold_DT)} \n",
    "ROC AUC: {roc_auc_score(y_valid, threshold_preds_DT)} \n",
    "\"\"\")\n",
    "\n",
    "# tomando las respuestas y predicciones correctas y devolviendo la media armónica de recall y precisión\n",
    "#tomando los valores objetivo y las probabilidades de clase positivas"
   ]
  },
  {
   "cell_type": "markdown",
   "metadata": {},
   "source": [
    "### **Sobremuestreo**"
   ]
  },
  {
   "cell_type": "code",
   "execution_count": 41,
   "metadata": {},
   "outputs": [],
   "source": [
    "#Dividiendo el conjunto de datos de entrenamiento en observaciones negativas y positivas\n",
    "#Duplicando las observaciones positivas varias veces\n",
    "#Creando una nueva muestra de entrenamiento basada en los datos obtenidos\n",
    "def upsample(features, target, repeat):\n",
    "    features_zeros = X_train[y_train == 0]\n",
    "    features_ones = X_train[y_train == 1]\n",
    "    target_zeros = y_train[y_train == 0]\n",
    "    target_ones = y_train[y_train == 1]\n",
    "    \n",
    "    features_upsampled = pd.concat([features_zeros] + [features_ones] * repeat)\n",
    "    target_upsampled = pd.concat([target_zeros] + [target_ones] * repeat)\n",
    "\n",
    "    features_upsampled, target_upsampled = shuffle(features_upsampled, target_upsampled, random_state=random_seed)\n",
    "    \n",
    "    return features_upsampled, target_upsampled\n",
    "\n",
    "features_upsampled, target_upsampled = upsample(\n",
    "    X_train, y_train, 10\n",
    ")"
   ]
  },
  {
   "cell_type": "code",
   "execution_count": 42,
   "metadata": {},
   "outputs": [
    {
     "name": "stdout",
     "output_type": "stream",
     "text": [
      "Best max depth DT: 2\n",
      "Best max F1 DT: 0.5022999080036799\n",
      "ROC AUC: 0.4781805377930564\n",
      "\n"
     ]
    }
   ],
   "source": [
    "random_seed = 200\n",
    "i = -1\n",
    "best_f1_score_DT = 0\n",
    "best_max_depth_DT = 0\n",
    "\n",
    "for SM_max_depth in [2, 4, 6, 8, 10]:\n",
    "    SM_model_DT = DecisionTreeClassifier(random_state=random_seed + i,\n",
    "                                         max_depth=SM_max_depth) # creando el modelo con pseudoaleatoriedad definida y profundidad proporcionada\n",
    "    SM_model_DT.fit(features_upsampled, target_upsampled) # entrenando el modelo \n",
    "    SM_preds_DT = SM_model_DT.predict(X_valid) # obteniendo la predicción del modelo\n",
    "    SM_f1_score_DT = f1_score(y_valid, SM_preds_DT)\n",
    "    \n",
    "    if SM_f1_score_DT > best_f1_score_DT:\n",
    "      best_max_depth_DT = SM_max_depth\n",
    "      best_f1_score_DT = SM_f1_score_DT\n",
    "      SM_best_model_DT = SM_model_DT\n",
    "\n",
    "print(f\"Best max depth DT: {best_max_depth_DT}\")\n",
    "print(f\"Best max F1 DT: {best_f1_score_DT}\")\n",
    "print(f\"ROC AUC: {roc_auc_score(y_test, SM_preds_DT)}\")\n",
    "print()"
   ]
  },
  {
   "cell_type": "markdown",
   "metadata": {},
   "source": [
    "### **Cambiando el umbral**"
   ]
  },
  {
   "cell_type": "code",
   "execution_count": 43,
   "metadata": {},
   "outputs": [],
   "source": [
    "#Cambiando el umbral\n",
    "turned_model_DT = DecisionTreeClassifier(random_state=random_seed,\n",
    "                                         max_depth=best_max_depth_DT,\n",
    "                                         class_weight=\"balanced\")\n",
    "turned_model_DT.fit(X_train, y_train)\n",
    "\n",
    "# Predicción\n",
    "turned_valid_preds_DT = turned_model_DT.predict_proba(X_valid)[:,1]"
   ]
  },
  {
   "cell_type": "code",
   "execution_count": 44,
   "metadata": {},
   "outputs": [
    {
     "name": "stdout",
     "output_type": "stream",
     "text": [
      "Best threshold: 0.3\n"
     ]
    }
   ],
   "source": [
    "best_threshold_DT = 0\n",
    "best_f1_score_DT = 0\n",
    "\n",
    "for t_DT in np.linspace(0, 1, 21):\n",
    "    f1_score_tmp_DT = f1_score(y_valid, turned_valid_preds_DT >= t_DT) #calculando f1_score variando el umbral en cada iteración\n",
    "    \n",
    "    if f1_score_tmp_DT > best_f1_score_DT: #si fi.. supera a best...\n",
    "        best_f1_score_DT = f1_score_tmp_DT\n",
    "        best_threshold_DT = t_DT # best-- igual al umbral usado en la iteración\n",
    "\n",
    "print(f\"Best threshold: {round(best_threshold_DT, 4)}\")"
   ]
  },
  {
   "cell_type": "code",
   "execution_count": 45,
   "metadata": {},
   "outputs": [
    {
     "name": "stdout",
     "output_type": "stream",
     "text": [
      "\n",
      "Validation results:\n",
      "F1 score: 0.5022999080036799  \n",
      "ROC AUC: 0.7265505540630274 \n",
      "\n"
     ]
    }
   ],
   "source": [
    "print(f\"\"\"\n",
    "Validation results:\n",
    "F1 score: {f1_score(y_valid, turned_valid_preds_DT >= best_threshold_DT)}  \n",
    "ROC AUC: {roc_auc_score(y_valid, turned_valid_preds_DT)} \n",
    "\"\"\")"
   ]
  },
  {
   "cell_type": "markdown",
   "metadata": {},
   "source": [
    "### **Modelo final**"
   ]
  },
  {
   "cell_type": "code",
   "execution_count": 46,
   "metadata": {},
   "outputs": [],
   "source": [
    "#Cambiando el umbral\n",
    "final_model_DT = DecisionTreeClassifier(random_state=random_seed,\n",
    "                                        max_depth=best_max_depth_DT,\n",
    "                                        class_weight=\"balanced\")\n",
    "final_model_DT.fit(X_full_train, y_full_train)\n",
    "\n",
    "# Predicción\n",
    "final_test_preds_DT = final_model_DT.predict_proba(X_test)[:,1]"
   ]
  },
  {
   "cell_type": "code",
   "execution_count": 47,
   "metadata": {},
   "outputs": [
    {
     "name": "stdout",
     "output_type": "stream",
     "text": [
      "\n",
      "Test results:\n",
      "F1 score: 0.5000000000000001\n",
      "ROC AUC: 0.7234300721633061\n",
      "\n"
     ]
    }
   ],
   "source": [
    "print(f\"\"\"\n",
    "Test results:\n",
    "F1 score: {f1_score(y_test, final_test_preds_DT >= best_threshold_DT)}\n",
    "ROC AUC: {roc_auc_score(y_test, final_test_preds_DT)}\n",
    "\"\"\")"
   ]
  },
  {
   "cell_type": "markdown",
   "metadata": {},
   "source": [
    "## Modelo de bosque aleatorio"
   ]
  },
  {
   "cell_type": "markdown",
   "metadata": {},
   "source": [
    "**Bosque aleatorio sin balance**"
   ]
  },
  {
   "cell_type": "code",
   "execution_count": 48,
   "metadata": {},
   "outputs": [
    {
     "name": "stdout",
     "output_type": "stream",
     "text": [
      "Best max depth RF: 7\n",
      "Best n estimators RF: 50\n",
      "Best max F1 DT: 0.5078864353312302\n",
      "ROC AUC: 0.670707831661632\n",
      "\n"
     ]
    }
   ],
   "source": [
    "random_seed = 200\n",
    "i = -1\n",
    "best_f1_score_RF = 0\n",
    "best_max_depth_RF = 0\n",
    "best_n_estimators_RF = 0\n",
    "\n",
    "for max_depth_RF in [5, 6, 7, 8]:\n",
    "  for n_estimators in [10, 25, 50, 100]:\n",
    "    model_first = RandomForestClassifier(random_state=random_seed + i,\n",
    "                                         n_estimators=n_estimators,\n",
    "                                         max_depth=max_depth_RF) # creando el modelo con pseudoaleatoriedad definida, profundidad proporcionada y cantidad de árboles\n",
    "    model_first.fit(X_full_train, y_full_train) # entrenando el modelo \n",
    "    predictions_first = model_first.predict(X_test) # obteniendo las predicciones del modelo\n",
    "    f1_score_RF = f1_score(y_test, predictions_first >= 0.5)\n",
    "\n",
    "    if f1_score_RF > best_f1_score_RF:\n",
    "      best_max_depth_RF = max_depth_RF\n",
    "      best_n_estimators_RF = n_estimators\n",
    "      best_f1_score_RF = f1_score_RF\n",
    "      best_model_RF = model_first\n",
    "\n",
    "print(f\"Best max depth RF: {best_max_depth_RF}\")\n",
    "print(f\"Best n estimators RF: {best_n_estimators_RF}\")\n",
    "print(f\"Best max F1 DT: {best_f1_score_RF}\")\n",
    "print(f\"ROC AUC: {roc_auc_score(y_test, predictions_first)}\")\n",
    "print()"
   ]
  },
  {
   "cell_type": "markdown",
   "metadata": {},
   "source": [
    "### Corrigiendo el desequilibrio de clases"
   ]
  },
  {
   "cell_type": "markdown",
   "metadata": {},
   "source": [
    "**class_weight = \"balanced\"**"
   ]
  },
  {
   "cell_type": "code",
   "execution_count": 49,
   "metadata": {},
   "outputs": [
    {
     "name": "stdout",
     "output_type": "stream",
     "text": [
      "Best max depth RF: 7\n",
      "Best n estimators RF: 50\n",
      "Best max F1 DT: 0.592274678111588\n",
      "ROC AUC: 0.4914228841203506\n",
      "\n"
     ]
    }
   ],
   "source": [
    "random_seed = 200\n",
    "i = -1\n",
    "best_f1_score_RF = 0\n",
    "best_max_depth_RF = 0\n",
    "best_n_estimators_RF = 0\n",
    "\n",
    "for adjusted_max_depth_RF in [5, 6, 7, 8]:\n",
    "  for n_estimators in [10, 25, 50, 100]:\n",
    "    adjusted_model_RF = RandomForestClassifier(random_state=random_seed + i,\n",
    "                                               n_estimators=n_estimators,\n",
    "                                               max_depth=adjusted_max_depth_RF,\n",
    "                                               class_weight=\"balanced\") # creando el modelo con pseudoaleatoriedad definida, profundidad proporcionada y cantidad de árboles\n",
    "    adjusted_model_RF.fit(X_train, y_train) # entrenando el modelo \n",
    "    adjusted_preds_RF = adjusted_model_RF.predict(X_valid) # obteniendo las predicciones del modelo\n",
    "    adjusted_f1_score_RF = f1_score(y_valid, adjusted_preds_RF >= 0.5)\n",
    "\n",
    "    if adjusted_f1_score_RF > best_f1_score_RF:\n",
    "      best_max_depth_RF = adjusted_max_depth_RF\n",
    "      best_n_estimators_RF = n_estimators\n",
    "      best_f1_score_RF = adjusted_f1_score_RF\n",
    "      best_model_RF = adjusted_model_RF\n",
    "\n",
    "print(f\"Best max depth RF: {best_max_depth_RF}\")\n",
    "print(f\"Best n estimators RF: {best_n_estimators_RF}\")\n",
    "print(f\"Best max F1 DT: {best_f1_score_RF}\")\n",
    "print(f\"ROC AUC: {roc_auc_score(y_test, adjusted_preds_RF)}\")\n",
    "print()"
   ]
  },
  {
   "cell_type": "markdown",
   "metadata": {},
   "source": [
    "**class_weight = \"balanced_subsample\"**"
   ]
  },
  {
   "cell_type": "code",
   "execution_count": 50,
   "metadata": {},
   "outputs": [
    {
     "name": "stdout",
     "output_type": "stream",
     "text": [
      "Best max depth RF: 8\n",
      "Best n estimators RF: 25\n",
      "Best max F1 DT: 0.5984598459845984\n",
      "ROC AUC: 0.48662217067582186\n",
      "\n"
     ]
    }
   ],
   "source": [
    "random_seed = 200\n",
    "i = -1\n",
    "best_f1_score_RF = 0\n",
    "best_max_depth_RF = 0\n",
    "best_n_estimators_RF = 0\n",
    "\n",
    "for adjusted_sub_max_depth_RF in [5, 6, 7, 8]:\n",
    "  for n_estimators in [10, 25, 50, 100]:\n",
    "    adjusted_sub_model_RF = RandomForestClassifier(random_state=random_seed + i,\n",
    "                                                   n_estimators=n_estimators,\n",
    "                                                   max_depth=adjusted_sub_max_depth_RF,\n",
    "                                                   class_weight=\"balanced_subsample\") # creando el modelo con pseudoaleatoriedad definida, profundidad proporcionada y cantidad de árboles\n",
    "    adjusted_sub_model_RF.fit(X_train, y_train) # entrenando el modelo \n",
    "    adjusted_sub_preds_RF = adjusted_sub_model_RF.predict(X_valid) # obteniendo las predicciones del modelo\n",
    "    adjusted_sub_f1_score_RF = f1_score(y_valid, adjusted_sub_preds_RF >= 0.5)\n",
    "\n",
    "    if adjusted_sub_f1_score_RF > best_f1_score_RF:\n",
    "      best_max_depth_RF = adjusted_sub_max_depth_RF\n",
    "      best_n_estimators_RF = n_estimators\n",
    "      best_f1_score_RF = adjusted_sub_f1_score_RF\n",
    "      best_model_RF = adjusted_sub_model_RF\n",
    "\n",
    "print(f\"Best max depth RF: {best_max_depth_RF}\")\n",
    "print(f\"Best n estimators RF: {best_n_estimators_RF}\")\n",
    "print(f\"Best max F1 DT: {best_f1_score_RF}\")\n",
    "print(f\"ROC AUC: {roc_auc_score(y_test, adjusted_sub_preds_RF)}\")\n",
    "print()"
   ]
  },
  {
   "cell_type": "markdown",
   "metadata": {},
   "source": [
    "### Ajuste de umbral"
   ]
  },
  {
   "cell_type": "code",
   "execution_count": 51,
   "metadata": {},
   "outputs": [
    {
     "name": "stdout",
     "output_type": "stream",
     "text": [
      "Best max depth RF: 8\n",
      "Best n estimators RF: 50\n",
      "Best max F1 DT: 0.5214626391096979\n",
      "ROC AUC: 0.49875683184177977\n",
      "\n"
     ]
    }
   ],
   "source": [
    "random_seed = 200\n",
    "i = -1\n",
    "best_f1_score_RF = 0\n",
    "best_max_depth_RF = 0\n",
    "best_n_estimators_RF = 0\n",
    "\n",
    "for threshold_max_depth_RF in [5, 6, 7, 8]:\n",
    "  for n_estimators in [10, 25, 50, 100]:\n",
    "    threshold_model_RF = RandomForestClassifier(random_state=random_seed + i,\n",
    "                                               n_estimators=n_estimators,\n",
    "                                               max_depth=threshold_max_depth_RF) # creando el modelo con pseudoaleatoriedad definida, profundidad proporcionada y cantidad de árboles\n",
    "    threshold_model_RF.fit(X_train, y_train) # entrenando el modelo \n",
    "    threshold_preds_RF = threshold_model_RF.predict(X_valid) # obteniendo las predicciones del modelo\n",
    "    threshold_f1_score_RF = f1_score(y_valid, threshold_preds_RF >= 0.5)\n",
    "\n",
    "    if threshold_f1_score_RF > best_f1_score_RF:\n",
    "      best_max_depth_RF = threshold_max_depth_RF\n",
    "      best_n_estimators_RF = n_estimators\n",
    "      best_f1_score_RF = threshold_f1_score_RF\n",
    "      best_model_RF = threshold_model_RF\n",
    "\n",
    "print(f\"Best max depth RF: {best_max_depth_RF}\")\n",
    "print(f\"Best n estimators RF: {best_n_estimators_RF}\")\n",
    "print(f\"Best max F1 DT: {best_f1_score_RF}\")\n",
    "print(f\"ROC AUC: {roc_auc_score(y_test, threshold_preds_RF)}\")\n",
    "print()"
   ]
  },
  {
   "cell_type": "code",
   "execution_count": 52,
   "metadata": {},
   "outputs": [
    {
     "name": "stdout",
     "output_type": "stream",
     "text": [
      "Best threshold: 0.05\n"
     ]
    }
   ],
   "source": [
    "#Encontrando el mejor umbral\n",
    "\n",
    "best_threshold_RF = 0\n",
    "best_f1_score_RF = 0\n",
    "\n",
    "for t_RF in np.linspace(0, 1, 21): #Devolviendo un número de muestras espaciadas uniformemente, calculadas sobre el intervalo [0 , 1]\n",
    "    f1_score_tmp_RF = f1_score(y_valid, threshold_preds_RF >= t_RF) #calculando f1_score variando el umbral en cada iteración\n",
    "    \n",
    "    if f1_score_tmp_RF > best_f1_score_RF: #si fi.. supera a best...\n",
    "        best_f1_score_RF = f1_score_tmp_RF\n",
    "        best_threshold_RF = t_RF # best-- igual al umbral usado en la iteración\n",
    "\n",
    "print(f\"Best threshold: {best_threshold_RF}\")"
   ]
  },
  {
   "cell_type": "code",
   "execution_count": 53,
   "metadata": {},
   "outputs": [
    {
     "name": "stdout",
     "output_type": "stream",
     "text": [
      "\n",
      "F1 score: 0.516025641025641 \n",
      "ROC AUC: 0.6789967773574331 \n",
      "\n"
     ]
    }
   ],
   "source": [
    "#Imprimiendo el desempeño\n",
    "#F1 score y_test, valor verdadero. preds, predicción binaria\n",
    "#ROC AUC y_test, valor verdadero. preds, predicción\n",
    "\n",
    "print(f\"\"\"\n",
    "F1 score: {f1_score(y_valid, threshold_preds_RF >= best_threshold_RF)} \n",
    "ROC AUC: {roc_auc_score(y_valid, threshold_preds_RF)} \n",
    "\"\"\")\n",
    "# tomando las respuestas y predicciones correctas y devolviendo la media armónica de recall y precisión\n",
    "#tomando los valores objetivo y las probabilidades de clase positivas"
   ]
  },
  {
   "cell_type": "markdown",
   "metadata": {},
   "source": [
    "### Sobremuestreo"
   ]
  },
  {
   "cell_type": "code",
   "execution_count": 54,
   "metadata": {},
   "outputs": [
    {
     "name": "stdout",
     "output_type": "stream",
     "text": [
      "Best max depth RF: 8\n",
      "Best n estimators RF: 100\n",
      "Best max F1 DT: 0.5185714285714286\n",
      "ROC AUC: 0.4739292004567712\n",
      "\n"
     ]
    }
   ],
   "source": [
    "random_seed = 200\n",
    "i = -1\n",
    "best_f1_score_RF = 0\n",
    "best_max_depth_RF = 0\n",
    "best_n_estimators_RF = 0\n",
    "\n",
    "for SM_max_depth_RF in [5, 6, 7, 8]:\n",
    "  for n_estimators in [10, 25, 50, 100]:\n",
    "    SM_model_RF = RandomForestClassifier(random_state=random_seed + i,\n",
    "                                         n_estimators=n_estimators,\n",
    "                                         max_depth=SM_max_depth_RF) # creando el modelo con pseudoaleatoriedad definida, profundidad proporcionada y cantidad de árboles\n",
    "    SM_model_RF.fit(features_upsampled, target_upsampled) # entrenando el modelo \n",
    "    SM_preds_RF = SM_model_RF.predict(X_valid) # obteniendo las predicciones del modelo\n",
    "    SM_f1_score_RF = f1_score(y_valid, SM_preds_RF)\n",
    "\n",
    "    if SM_f1_score_RF > best_f1_score_RF:\n",
    "      best_max_depth_RF = SM_max_depth_RF\n",
    "      best_n_estimators_RF = n_estimators\n",
    "      best_f1_score_RF = SM_f1_score_RF\n",
    "      best_model_RF = SM_model_RF\n",
    "\n",
    "print(f\"Best max depth RF: {best_max_depth_RF}\")\n",
    "print(f\"Best n estimators RF: {best_n_estimators_RF}\")\n",
    "print(f\"Best max F1 DT: {best_f1_score_RF}\")\n",
    "print(f\"ROC AUC: {roc_auc_score(y_test, SM_preds_RF)}\")\n",
    "print()"
   ]
  },
  {
   "cell_type": "markdown",
   "metadata": {},
   "source": [
    "### **Cambiando el umbral**"
   ]
  },
  {
   "cell_type": "code",
   "execution_count": 55,
   "metadata": {},
   "outputs": [],
   "source": [
    "#Cambiando el umbral\n",
    "turned_model_RF = RandomForestClassifier(random_state=random_seed,\n",
    "                                         n_estimators=best_n_estimators_RF,\n",
    "                                         max_depth=best_max_depth_RF,\n",
    "                                         class_weight=\"balanced_subsample\")\n",
    "turned_model_RF.fit(X_train, y_train)\n",
    "\n",
    "# Predicción\n",
    "turned_valid_preds_RF = turned_model_RF.predict_proba(X_valid)[:,1]"
   ]
  },
  {
   "cell_type": "code",
   "execution_count": 56,
   "metadata": {},
   "outputs": [
    {
     "name": "stdout",
     "output_type": "stream",
     "text": [
      "Best threshold: 0.5\n"
     ]
    }
   ],
   "source": [
    "best_threshold_RF = 0\n",
    "best_f1_score_RF = 0\n",
    "\n",
    "for t_RF in np.linspace(0, 1, 51):\n",
    "    f1_score_tmp_RF = f1_score(y_valid, turned_valid_preds_RF >= t_RF) #calculando f1_score variando el umbral en cada iteración\n",
    "    \n",
    "    if f1_score_tmp_RF > best_f1_score_RF: #si fi.. supera a best...\n",
    "        best_f1_score_RF = f1_score_tmp_RF\n",
    "        best_threshold_RF = t_RF # best-- igual al umbral usado en la iteración\n",
    "\n",
    "print(f\"Best threshold: {round(best_threshold_RF, 4)}\")"
   ]
  },
  {
   "cell_type": "code",
   "execution_count": 57,
   "metadata": {},
   "outputs": [
    {
     "name": "stdout",
     "output_type": "stream",
     "text": [
      "\n",
      "Validation results:\n",
      "F1 score: 0.6036036036036035\n",
      "ROC AUC: 0.8517721488142016\n",
      "\n"
     ]
    }
   ],
   "source": [
    "print(f\"\"\"\n",
    "Validation results:\n",
    "F1 score: {f1_score(y_valid, turned_valid_preds_RF >= best_threshold_RF)}\n",
    "ROC AUC: {roc_auc_score(y_valid, turned_valid_preds_RF)}\n",
    "\"\"\")"
   ]
  },
  {
   "cell_type": "markdown",
   "metadata": {},
   "source": [
    "### **Modelo final**"
   ]
  },
  {
   "cell_type": "code",
   "execution_count": 58,
   "metadata": {},
   "outputs": [],
   "source": [
    "#Cambiando el umbral\n",
    "final_model_RF = RandomForestClassifier(random_state=random_seed,\n",
    "                                        n_estimators=best_n_estimators_RF,\n",
    "                                        max_depth=best_max_depth_RF,\n",
    "                                        class_weight=\"balanced_subsample\")\n",
    "final_model_RF.fit(X_full_train, y_full_train)\n",
    "\n",
    "# Predicción\n",
    "final_test_preds_RF = final_model_RF.predict_proba(X_test)[:,1]"
   ]
  },
  {
   "cell_type": "code",
   "execution_count": 59,
   "metadata": {},
   "outputs": [
    {
     "name": "stdout",
     "output_type": "stream",
     "text": [
      "\n",
      "Test results:\n",
      "F1 score: 0.5949367088607594\n",
      "ROC AUC: 0.8382303240723509\n",
      "\n"
     ]
    }
   ],
   "source": [
    "print(f\"\"\"\n",
    "Test results:\n",
    "F1 score: {f1_score(y_test, final_test_preds_RF >= best_threshold_RF)}\n",
    "ROC AUC: {roc_auc_score(y_test, final_test_preds_RF)}\n",
    "\"\"\")"
   ]
  },
  {
   "cell_type": "markdown",
   "metadata": {},
   "source": [
    "## Modelo de regresión logística"
   ]
  },
  {
   "cell_type": "code",
   "execution_count": 60,
   "metadata": {},
   "outputs": [],
   "source": [
    "#Transformando características categóricas en numéricas\n",
    "features_ohe = pd.get_dummies(features, drop_first=True)"
   ]
  },
  {
   "cell_type": "code",
   "execution_count": 61,
   "metadata": {},
   "outputs": [
    {
     "data": {
      "text/html": [
       "<div>\n",
       "<style scoped>\n",
       "    .dataframe tbody tr th:only-of-type {\n",
       "        vertical-align: middle;\n",
       "    }\n",
       "\n",
       "    .dataframe tbody tr th {\n",
       "        vertical-align: top;\n",
       "    }\n",
       "\n",
       "    .dataframe thead th {\n",
       "        text-align: right;\n",
       "    }\n",
       "</style>\n",
       "<table border=\"1\" class=\"dataframe\">\n",
       "  <thead>\n",
       "    <tr style=\"text-align: right;\">\n",
       "      <th></th>\n",
       "      <th>credit_score</th>\n",
       "      <th>age</th>\n",
       "      <th>tenure</th>\n",
       "      <th>balance</th>\n",
       "      <th>numofproducts</th>\n",
       "      <th>has_cr_card</th>\n",
       "      <th>is_active_member</th>\n",
       "      <th>estimated_salary</th>\n",
       "      <th>geography_Germany</th>\n",
       "      <th>geography_Spain</th>\n",
       "      <th>gender_Male</th>\n",
       "    </tr>\n",
       "  </thead>\n",
       "  <tbody>\n",
       "    <tr>\n",
       "      <th>0</th>\n",
       "      <td>619</td>\n",
       "      <td>42</td>\n",
       "      <td>2.0</td>\n",
       "      <td>0.00</td>\n",
       "      <td>1</td>\n",
       "      <td>1</td>\n",
       "      <td>1</td>\n",
       "      <td>101348.88</td>\n",
       "      <td>0</td>\n",
       "      <td>0</td>\n",
       "      <td>0</td>\n",
       "    </tr>\n",
       "    <tr>\n",
       "      <th>1</th>\n",
       "      <td>608</td>\n",
       "      <td>41</td>\n",
       "      <td>1.0</td>\n",
       "      <td>83807.86</td>\n",
       "      <td>1</td>\n",
       "      <td>0</td>\n",
       "      <td>1</td>\n",
       "      <td>112542.58</td>\n",
       "      <td>0</td>\n",
       "      <td>1</td>\n",
       "      <td>0</td>\n",
       "    </tr>\n",
       "    <tr>\n",
       "      <th>2</th>\n",
       "      <td>502</td>\n",
       "      <td>42</td>\n",
       "      <td>8.0</td>\n",
       "      <td>159660.80</td>\n",
       "      <td>3</td>\n",
       "      <td>1</td>\n",
       "      <td>0</td>\n",
       "      <td>113931.57</td>\n",
       "      <td>0</td>\n",
       "      <td>0</td>\n",
       "      <td>0</td>\n",
       "    </tr>\n",
       "    <tr>\n",
       "      <th>3</th>\n",
       "      <td>699</td>\n",
       "      <td>39</td>\n",
       "      <td>1.0</td>\n",
       "      <td>0.00</td>\n",
       "      <td>2</td>\n",
       "      <td>0</td>\n",
       "      <td>0</td>\n",
       "      <td>93826.63</td>\n",
       "      <td>0</td>\n",
       "      <td>0</td>\n",
       "      <td>0</td>\n",
       "    </tr>\n",
       "    <tr>\n",
       "      <th>4</th>\n",
       "      <td>850</td>\n",
       "      <td>43</td>\n",
       "      <td>2.0</td>\n",
       "      <td>125510.82</td>\n",
       "      <td>1</td>\n",
       "      <td>1</td>\n",
       "      <td>1</td>\n",
       "      <td>79084.10</td>\n",
       "      <td>0</td>\n",
       "      <td>1</td>\n",
       "      <td>0</td>\n",
       "    </tr>\n",
       "    <tr>\n",
       "      <th>...</th>\n",
       "      <td>...</td>\n",
       "      <td>...</td>\n",
       "      <td>...</td>\n",
       "      <td>...</td>\n",
       "      <td>...</td>\n",
       "      <td>...</td>\n",
       "      <td>...</td>\n",
       "      <td>...</td>\n",
       "      <td>...</td>\n",
       "      <td>...</td>\n",
       "      <td>...</td>\n",
       "    </tr>\n",
       "    <tr>\n",
       "      <th>9995</th>\n",
       "      <td>771</td>\n",
       "      <td>39</td>\n",
       "      <td>5.0</td>\n",
       "      <td>0.00</td>\n",
       "      <td>2</td>\n",
       "      <td>1</td>\n",
       "      <td>0</td>\n",
       "      <td>96270.64</td>\n",
       "      <td>0</td>\n",
       "      <td>0</td>\n",
       "      <td>1</td>\n",
       "    </tr>\n",
       "    <tr>\n",
       "      <th>9996</th>\n",
       "      <td>516</td>\n",
       "      <td>35</td>\n",
       "      <td>10.0</td>\n",
       "      <td>57369.61</td>\n",
       "      <td>1</td>\n",
       "      <td>1</td>\n",
       "      <td>1</td>\n",
       "      <td>101699.77</td>\n",
       "      <td>0</td>\n",
       "      <td>0</td>\n",
       "      <td>1</td>\n",
       "    </tr>\n",
       "    <tr>\n",
       "      <th>9997</th>\n",
       "      <td>709</td>\n",
       "      <td>36</td>\n",
       "      <td>7.0</td>\n",
       "      <td>0.00</td>\n",
       "      <td>1</td>\n",
       "      <td>0</td>\n",
       "      <td>1</td>\n",
       "      <td>42085.58</td>\n",
       "      <td>0</td>\n",
       "      <td>0</td>\n",
       "      <td>0</td>\n",
       "    </tr>\n",
       "    <tr>\n",
       "      <th>9998</th>\n",
       "      <td>772</td>\n",
       "      <td>42</td>\n",
       "      <td>3.0</td>\n",
       "      <td>75075.31</td>\n",
       "      <td>2</td>\n",
       "      <td>1</td>\n",
       "      <td>0</td>\n",
       "      <td>92888.52</td>\n",
       "      <td>1</td>\n",
       "      <td>0</td>\n",
       "      <td>1</td>\n",
       "    </tr>\n",
       "    <tr>\n",
       "      <th>9999</th>\n",
       "      <td>792</td>\n",
       "      <td>28</td>\n",
       "      <td>1.0</td>\n",
       "      <td>130142.79</td>\n",
       "      <td>1</td>\n",
       "      <td>1</td>\n",
       "      <td>0</td>\n",
       "      <td>38190.78</td>\n",
       "      <td>0</td>\n",
       "      <td>0</td>\n",
       "      <td>0</td>\n",
       "    </tr>\n",
       "  </tbody>\n",
       "</table>\n",
       "<p>10000 rows × 11 columns</p>\n",
       "</div>"
      ],
      "text/plain": [
       "      credit_score  age  tenure    balance  numofproducts  has_cr_card  \\\n",
       "0              619   42     2.0       0.00              1            1   \n",
       "1              608   41     1.0   83807.86              1            0   \n",
       "2              502   42     8.0  159660.80              3            1   \n",
       "3              699   39     1.0       0.00              2            0   \n",
       "4              850   43     2.0  125510.82              1            1   \n",
       "...            ...  ...     ...        ...            ...          ...   \n",
       "9995           771   39     5.0       0.00              2            1   \n",
       "9996           516   35    10.0   57369.61              1            1   \n",
       "9997           709   36     7.0       0.00              1            0   \n",
       "9998           772   42     3.0   75075.31              2            1   \n",
       "9999           792   28     1.0  130142.79              1            1   \n",
       "\n",
       "      is_active_member  estimated_salary  geography_Germany  geography_Spain  \\\n",
       "0                    1         101348.88                  0                0   \n",
       "1                    1         112542.58                  0                1   \n",
       "2                    0         113931.57                  0                0   \n",
       "3                    0          93826.63                  0                0   \n",
       "4                    1          79084.10                  0                1   \n",
       "...                ...               ...                ...              ...   \n",
       "9995                 0          96270.64                  0                0   \n",
       "9996                 1         101699.77                  0                0   \n",
       "9997                 1          42085.58                  0                0   \n",
       "9998                 0          92888.52                  1                0   \n",
       "9999                 0          38190.78                  0                0   \n",
       "\n",
       "      gender_Male  \n",
       "0               0  \n",
       "1               0  \n",
       "2               0  \n",
       "3               0  \n",
       "4               0  \n",
       "...           ...  \n",
       "9995            1  \n",
       "9996            1  \n",
       "9997            0  \n",
       "9998            1  \n",
       "9999            0  \n",
       "\n",
       "[10000 rows x 11 columns]"
      ]
     },
     "execution_count": 61,
     "metadata": {},
     "output_type": "execute_result"
    }
   ],
   "source": [
    "features_ohe"
   ]
  },
  {
   "cell_type": "code",
   "execution_count": 62,
   "metadata": {},
   "outputs": [],
   "source": [
    "# División de datos en conjuntos de entrenamiento y validación\n",
    "random_seed = 200\n",
    "\n",
    "X_fullo_train, X_o_test, y_fullo_train, y_o_test = train_test_split(features_ohe,\n",
    "                                                    target,\n",
    "                                                    test_size = 0.2,\n",
    "                                                    random_state=random_seed)\n",
    "\n",
    "X_o_train, X_o_valid, y_o_train, y_o_valid = train_test_split(X_fullo_train,\n",
    "                                                      y_fullo_train,\n",
    "                                                      test_size = 0.25,\n",
    "                                                      random_state=random_seed+1)"
   ]
  },
  {
   "cell_type": "code",
   "execution_count": 63,
   "metadata": {},
   "outputs": [
    {
     "name": "stdout",
     "output_type": "stream",
     "text": [
      "(8000, 11)\n",
      "(2000, 11)\n",
      "(6000, 11)\n",
      "(2000, 11)\n"
     ]
    }
   ],
   "source": [
    "for df in [X_fullo_train, X_o_test, X_o_train, X_o_valid]:\n",
    "  print(df.shape)"
   ]
  },
  {
   "cell_type": "markdown",
   "metadata": {},
   "source": [
    "Vamos a entrenar al modelo con 8.000 observaciones, escoger los hiperparametros con 2.000 observaciones, entrenar al modelo con 6.000 observaciones y la muestra de prueba final con 2.000 observaciones."
   ]
  },
  {
   "cell_type": "markdown",
   "metadata": {},
   "source": [
    "**Regresión logística sin balance**"
   ]
  },
  {
   "cell_type": "code",
   "execution_count": 64,
   "metadata": {},
   "outputs": [
    {
     "name": "stdout",
     "output_type": "stream",
     "text": [
      "Best penalty: l1\n",
      "Best max F1 DT: 0.2702\n",
      "ROC AUC: 0.5\n",
      "\n"
     ]
    }
   ],
   "source": [
    "random_seed = 200\n",
    "i = -1\n",
    "best_f1_score_LR = 0\n",
    "best_penalty = None\n",
    "solver = \"liblinear\"\n",
    "\n",
    "for penalty in [\"l1\", \"l2\", \"none\"]:\n",
    "    if penalty == \"none\":\n",
    "        solver = \"saga\"\n",
    "    model_LR = LogisticRegression(random_state=random_seed + i,\n",
    "                                  solver=solver,\n",
    "                                  penalty = penalty,\n",
    "                                  max_iter = 10000) # inicializando el constructor de regresión logística con pseudoaleatoriedad definida, solver='liblinear', penalizadores e iteraciones (max-iter)\n",
    "    model_LR.fit(X_fullo_train, y_fullo_train) # entrenando el modelo \n",
    "    predictions_LR = model_LR.predict(X_o_test) # obteniendo las predicciones del modelo\n",
    "    f1_score_LR = f1_score(y_o_test, predictions_LR >= 0.5)\n",
    "\n",
    "    if f1_score_LR > best_f1_score_LR:\n",
    "      best_f1_score_LR = f1_score_LR\n",
    "      best_penalty = penalty\n",
    "      best_model_LR = model_LR\n",
    "\n",
    "print(f\"Best penalty: {best_penalty}\")\n",
    "print(f\"Best max F1 DT: {round(best_f1_score_LR, 4)}\")\n",
    "print(f\"ROC AUC: {roc_auc_score(y_test, predictions_LR)}\")\n",
    "print()"
   ]
  },
  {
   "cell_type": "markdown",
   "metadata": {},
   "source": [
    "### Corrigiendo el desequilibrio de clases"
   ]
  },
  {
   "cell_type": "markdown",
   "metadata": {},
   "source": [
    "**class_weight = \"balanced\"**"
   ]
  },
  {
   "cell_type": "code",
   "execution_count": 65,
   "metadata": {},
   "outputs": [
    {
     "name": "stdout",
     "output_type": "stream",
     "text": [
      "Best penalty: l1\n",
      "Best max F1 DT: 0.4627\n",
      "ROC AUC: 0.48183857870892144\n",
      "\n"
     ]
    }
   ],
   "source": [
    "random_seed = 200\n",
    "i = -1\n",
    "best_f1_score_LR = 0\n",
    "best_penalty = None\n",
    "solver = \"liblinear\"\n",
    "\n",
    "for penalty in [\"l1\", \"l2\", \"none\"]:\n",
    "    if penalty == \"none\":\n",
    "        solver = \"saga\"\n",
    "    adjusted_model_LR = LogisticRegression(random_state=random_seed + i,\n",
    "                                           solver=solver,\n",
    "                                           penalty = penalty,\n",
    "                                           max_iter = 10000,\n",
    "                                           class_weight=\"balanced\") # inicializando el constructor de regresión logística con pseudoaleatoriedad definida, solver='liblinear', penalizadores e iteraciones (max-iter)\n",
    "    adjusted_model_LR.fit(X_o_train, y_o_train) # entrenando el modelo \n",
    "    adjusted_predictions_LR = adjusted_model_LR.predict(X_o_valid) # obteniendo las predicciones del modelo\n",
    "    adjusted_f1_score_LR = f1_score(y_o_valid, adjusted_predictions_LR >= 0.5)\n",
    "\n",
    "    if adjusted_f1_score_LR > best_f1_score_LR:\n",
    "      best_f1_score_LR = adjusted_f1_score_LR\n",
    "      best_penalty = penalty\n",
    "      best_model_LR = adjusted_model_LR\n",
    "\n",
    "print(f\"Best penalty: {best_penalty}\")\n",
    "print(f\"Best max F1 DT: {round(best_f1_score_LR, 4)}\")\n",
    "print(f\"ROC AUC: {roc_auc_score(y_o_test, adjusted_predictions_LR)}\")\n",
    "print()"
   ]
  },
  {
   "cell_type": "markdown",
   "metadata": {},
   "source": [
    "### Ajuste de umbral"
   ]
  },
  {
   "cell_type": "code",
   "execution_count": 66,
   "metadata": {},
   "outputs": [
    {
     "name": "stdout",
     "output_type": "stream",
     "text": [
      "Best penalty: l1\n",
      "Best max F1 DT: 0.328\n",
      "ROC AUC: 0.5\n",
      "\n"
     ]
    }
   ],
   "source": [
    "random_seed = 200\n",
    "i = -1\n",
    "best_f1_score_LR = 0\n",
    "best_penalty = None\n",
    "solver = \"liblinear\"\n",
    "\n",
    "for penalty in [\"l1\", \"l2\", \"none\"]:\n",
    "    if penalty == \"none\":\n",
    "        solver = \"saga\"\n",
    "    threshold_model_LR = LogisticRegression(random_state=random_seed + i,\n",
    "                                            solver=solver, penalty = penalty,\n",
    "                                            max_iter = 10000) # inicializando el constructor de regresión logística con pseudoaleatoriedad definida, solver='liblinear', penalizadores e iteraciones (max-iter)\n",
    "    threshold_model_LR.fit(X_o_train, y_o_train) # entrenando el modelo \n",
    "    threshold_predictions_LR = threshold_model_LR.predict(X_o_valid) # obteniendo las predicciones del modelo\n",
    "    threshold_f1_score_LR = f1_score(y_o_valid, threshold_predictions_LR >= 0.5)\n",
    "\n",
    "    if threshold_f1_score_LR > best_f1_score_LR:\n",
    "      best_f1_score_LR = threshold_f1_score_LR\n",
    "      best_penalty = penalty\n",
    "      best_model_LRR = threshold_model_LR\n",
    "\n",
    "print(f\"Best penalty: {best_penalty}\")\n",
    "print(f\"Best max F1 DT: {round(best_f1_score_LR, 4)}\")\n",
    "print(f\"ROC AUC: {roc_auc_score(y_o_test, threshold_predictions_LR)}\")\n",
    "print()"
   ]
  },
  {
   "cell_type": "code",
   "execution_count": 67,
   "metadata": {},
   "outputs": [
    {
     "name": "stdout",
     "output_type": "stream",
     "text": [
      "Best threshold: 0.0\n"
     ]
    }
   ],
   "source": [
    "#Encontrando el mejor umbral\n",
    "best_threshold_LR = 0\n",
    "best_f1_score_LR = 0\n",
    "\n",
    "for t_LR in np.linspace(0, 1, 21): #Devolviendo un número de muestras espaciadas uniformemente, calculadas sobre el intervalo [0 , 1]\n",
    "    f1_score_tmp_LR = f1_score(y_o_valid, threshold_predictions_LR >= t_LR) #calculando f1_score variando el umbral en cada iteración\n",
    "    \n",
    "    if f1_score_tmp_LR > best_f1_score_LR: #si f1.. supera a best...\n",
    "        best_f1_score_LR = f1_score_tmp_LR\n",
    "        best_threshold_LR = t_LR # best-- igual al umbral usado en la iteración\n",
    "\n",
    "print(f\"Best threshold: {best_threshold_LR}\")"
   ]
  },
  {
   "cell_type": "code",
   "execution_count": 68,
   "metadata": {},
   "outputs": [
    {
     "name": "stdout",
     "output_type": "stream",
     "text": [
      "\n",
      "F1 score: 0.3429991714995857 \n",
      "ROC AUC: 0.5 \n",
      "\n"
     ]
    }
   ],
   "source": [
    "#Imprimiendo el desempeño\n",
    "#F1 score y_test, valor verdadero. preds, predicción binaria\n",
    "#ROC AUC y_test, valor verdadero. preds, predicción\n",
    "\n",
    "print(f\"\"\"\n",
    "F1 score: {f1_score(y_o_valid, threshold_predictions_LR >= best_threshold_LR)} \n",
    "ROC AUC: {roc_auc_score(y_o_valid, threshold_predictions_LR)} \n",
    "\"\"\")\n",
    "\n",
    "# tomando las respuestas y predicciones correctas y devolviendo la media armónica de recall y precisión\n",
    "#tomando los valores objetivo y las probabilidades de clase positivas"
   ]
  },
  {
   "cell_type": "markdown",
   "metadata": {},
   "source": [
    "### **Sobremuestreo**"
   ]
  },
  {
   "cell_type": "code",
   "execution_count": 69,
   "metadata": {},
   "outputs": [],
   "source": [
    "#Dividiendo el conjunto de datos de entrenamiento en observaciones negativas y positivas\n",
    "#Duplicando las observaciones positivas varias veces\n",
    "#Creando una nueva muestra de entrenamiento basada en los datos obtenidos\n",
    "def upsample(features, target, repeat):\n",
    "    features_zeros = X_o_train[y_o_train == 0]\n",
    "    features_ones = X_o_train[y_o_train == 1]\n",
    "    target_zeros = y_o_train[y_o_train == 0]\n",
    "    target_ones = y_o_train[y_o_train == 1]\n",
    "    \n",
    "    features_upsampled_LR = pd.concat([features_zeros] + [features_ones] * repeat)\n",
    "    target_upsampled_LR = pd.concat([target_zeros] + [target_ones] * repeat)\n",
    "\n",
    "    features_upsampled_LR, target_upsampled_LR = shuffle(features_upsampled_LR, target_upsampled_LR, random_state=random_seed)\n",
    "    \n",
    "    return features_upsampled_LR, target_upsampled_LR\n",
    "\n",
    "features_upsampled_LR, target_upsampled_LR = upsample(\n",
    "    X_o_train, y_o_train, 10\n",
    ")"
   ]
  },
  {
   "cell_type": "code",
   "execution_count": 70,
   "metadata": {},
   "outputs": [
    {
     "name": "stdout",
     "output_type": "stream",
     "text": [
      "Best penalty: l1\n",
      "Best max F1 DT: 0.4065\n",
      "ROC AUC: 0.5\n",
      "\n"
     ]
    }
   ],
   "source": [
    "random_seed = 200\n",
    "i = -1\n",
    "best_f1_score_LR = 0\n",
    "best_penalty = None\n",
    "solver = \"liblinear\"\n",
    "\n",
    "for penalty in [\"l1\", \"l2\", \"none\"]:\n",
    "    if penalty == \"none\":\n",
    "        solver = \"saga\"\n",
    "    threshold_model_LR = LogisticRegression(random_state=random_seed + i,\n",
    "                                            solver=solver,\n",
    "                                            penalty = penalty,\n",
    "                                            max_iter = 10000) # inicializando el constructor de regresión logística con pseudoaleatoriedad definida, solver='liblinear', penalizadores e iteraciones (max-iter)\n",
    "    threshold_model_LR.fit(features_upsampled_LR, target_upsampled_LR) # entrenando el modelo \n",
    "    threshold_predictions_LR = threshold_model_LR.predict(X_o_valid) # obteniendo las predicciones del modelo\n",
    "    threshold_f1_score_LR = f1_score(y_o_valid, threshold_predictions_LR)\n",
    "\n",
    "    if threshold_f1_score_LR > best_f1_score_LR:\n",
    "      best_f1_score_LR = threshold_f1_score_LR\n",
    "      best_penalty = penalty\n",
    "      best_model_LRR = threshold_model_LR\n",
    "\n",
    "print(f\"Best penalty: {best_penalty}\")\n",
    "print(f\"Best max F1 DT: {round(best_f1_score_LR, 4)}\")\n",
    "print(f\"ROC AUC: {roc_auc_score(y_o_test, threshold_predictions_LR)}\")\n",
    "print()"
   ]
  },
  {
   "cell_type": "markdown",
   "metadata": {},
   "source": [
    "### **Cambiando el umbral**"
   ]
  },
  {
   "cell_type": "code",
   "execution_count": 71,
   "metadata": {},
   "outputs": [],
   "source": [
    "#Cambiando el umbral\n",
    "turned_model_LR = LogisticRegression(random_state=random_seed,\n",
    "                                     solver=\"liblinear\",\n",
    "                                     penalty=best_penalty,\n",
    "                                     max_iter = 10000,\n",
    "                                     class_weight=\"balanced\")\n",
    "turned_model_LR.fit(X_o_train, y_o_train)\n",
    "\n",
    "# Predicción\n",
    "turned_valid_preds_LR = turned_model_LR.predict_proba(X_o_valid)[:,1]"
   ]
  },
  {
   "cell_type": "code",
   "execution_count": 72,
   "metadata": {},
   "outputs": [
    {
     "name": "stdout",
     "output_type": "stream",
     "text": [
      "Best threshold: 0.6\n"
     ]
    }
   ],
   "source": [
    "best_threshold_LR = 0\n",
    "best_f1_score_LR = 0\n",
    "\n",
    "for t_LR in np.linspace(0, 1, 21):\n",
    "    f1_score_tmp_LR = f1_score(y_o_valid, turned_valid_preds_LR >= t_LR) #calculando f1_score variando el umbral en cada iteración\n",
    "    \n",
    "    if f1_score_tmp_LR > best_f1_score_LR: #si fi.. supera a best...\n",
    "        best_f1_score_LR = f1_score_tmp_LR\n",
    "        best_threshold_LR = t_LR # best-- igual al umbral usado en la iteración\n",
    "\n",
    "print(f\"Best threshold: {round(best_threshold_LR, 4)}\")"
   ]
  },
  {
   "cell_type": "code",
   "execution_count": 73,
   "metadata": {},
   "outputs": [
    {
     "name": "stdout",
     "output_type": "stream",
     "text": [
      "\n",
      "Validation results:\n",
      "F1 score: 0.490280777537797  \n",
      "ROC AUC: 0.7492628738173999 \n",
      "\n"
     ]
    }
   ],
   "source": [
    "print(f\"\"\"\n",
    "Validation results:\n",
    "F1 score: {f1_score(y_o_valid, turned_valid_preds_LR >= best_threshold_LR)}  \n",
    "ROC AUC: {roc_auc_score(y_o_valid, turned_valid_preds_LR)} \n",
    "\"\"\")"
   ]
  },
  {
   "cell_type": "markdown",
   "metadata": {},
   "source": [
    "### **Modelo final**"
   ]
  },
  {
   "cell_type": "code",
   "execution_count": 74,
   "metadata": {},
   "outputs": [],
   "source": [
    "#Cambiando el umbral\n",
    "final_model_LR = LogisticRegression(random_state=random_seed,\n",
    "                                    solver=\"liblinear\",\n",
    "                                    penalty=best_penalty,\n",
    "                                    max_iter = 10000,\n",
    "                                    class_weight=\"balanced\")\n",
    "final_model_LR.fit(X_fullo_train, y_fullo_train)\n",
    "\n",
    "# Predicción\n",
    "final_test_preds_LR = final_model_LR.predict_proba(X_o_test)[:,1]"
   ]
  },
  {
   "cell_type": "code",
   "execution_count": 75,
   "metadata": {},
   "outputs": [
    {
     "name": "stdout",
     "output_type": "stream",
     "text": [
      "\n",
      "Test results:\n",
      "F1 score: 0.4994882292732856\n",
      "ROC AUC: 0.763617902217008\n",
      "\n"
     ]
    }
   ],
   "source": [
    "print(f\"\"\"\n",
    "Test results:\n",
    "F1 score: {f1_score(y_o_test, final_test_preds_LR >= best_threshold_LR)}\n",
    "ROC AUC: {roc_auc_score(y_o_test, final_test_preds_LR)}\n",
    "\"\"\")"
   ]
  },
  {
   "cell_type": "markdown",
   "metadata": {},
   "source": [
    "## Conclusión general <a id='end'></a>"
   ]
  },
  {
   "cell_type": "markdown",
   "metadata": {},
   "source": [
    "1. El DataFrame Clientes Megaline, inició con 14 columnas, pero al final se trabajó los modelos con 11 columnas, ya que row_number, customer_id, surname no agregaban valor por no considerarse como características. Además, la columna Ternure tenía un 10% de valores ausentes, el cúal fueron reemplazados con la moda de la categorización de cada año el cual ha madurado el depósito a plazo fijo de un cliente. Y por último, el DataFrame no tenía valores duplicados.\n",
    "2. Se examinó el equilibrio de clases t se evidencio que se tenía un imbalance del 20%. Se entrenaron los modelos árbol de decisión, bosque aleatorio y regresión logística y se dividió la data en conjuntos de entrenamiento y validación.\n",
    "3. Se mejoró la calidad del modelo con los enfoque class_weight, ajuste de umbral y sobremuestreo. Comparando los valores de F1 y AUC-ROC.\n",
    "4. Al obtener los resultados tras haber mejorado la calidad del modelo, se tomaron los mejores enfoques y se entrenó un último modelo para cada uno. Escogiendo el modelo de bosque aleatorio como el más adecuado ya que se obtuvo un F1 de 0.59."
   ]
  },
  {
   "cell_type": "markdown",
   "metadata": {},
   "source": [
    "[Volver a Contenidos](#back)"
   ]
  },
  {
   "cell_type": "code",
   "execution_count": null,
   "metadata": {},
   "outputs": [],
   "source": []
  }
 ],
 "metadata": {
  "kernelspec": {
   "display_name": "Python 3 (ipykernel)",
   "language": "python",
   "name": "python3"
  },
  "language_info": {
   "codemirror_mode": {
    "name": "ipython",
    "version": 3
   },
   "file_extension": ".py",
   "mimetype": "text/x-python",
   "name": "python",
   "nbconvert_exporter": "python",
   "pygments_lexer": "ipython3",
   "version": "3.11.5"
  },
  "toc": {
   "base_numbering": 1,
   "nav_menu": {
    "height": "242px",
    "width": "472px"
   },
   "number_sections": true,
   "sideBar": true,
   "skip_h1_title": true,
   "title_cell": "Table of Contents",
   "title_sidebar": "Contents",
   "toc_cell": false,
   "toc_position": {
    "height": "calc(100% - 180px)",
    "left": "10px",
    "top": "150px",
    "width": "274.774px"
   },
   "toc_section_display": true,
   "toc_window_display": true
  }
 },
 "nbformat": 4,
 "nbformat_minor": 2
}
